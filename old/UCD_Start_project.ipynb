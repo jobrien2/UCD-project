{
 "cells": [
  {
   "cell_type": "code",
   "execution_count": 1,
   "id": "a6bb55c3-2365-44b3-8fd5-d3b3bd20cf17",
   "metadata": {},
   "outputs": [],
   "source": [
    "import pandas as pd\n",
    "import numpy as np\n",
    "import matplotlib.pyplot as plt\n",
    "import seaborn as sns\n",
    "import openpyxl\n",
    "import requests\n",
    "import lxml.html as lh\n",
    "import json\n",
    "\n",
    "from bs4 import BeautifulSoup\n",
    "from sklearn.linear_model import LinearRegression"
   ]
  },
  {
   "cell_type": "markdown",
   "id": "23798526",
   "metadata": {},
   "source": [
    "#### Import Files"
   ]
  },
  {
   "cell_type": "code",
   "execution_count": 2,
   "id": "37cd5018",
   "metadata": {},
   "outputs": [],
   "source": [
    "mort_data = r'C:/Users/obrienjo/Documents/Github/UCD-project/Mortality_data.csv'\n",
    "ireland_pop = r'C:/Users/obrienjo/Documents/Github/UCD-project/Ireland Population.csv'\n",
    "death_by_qtr = r'C:/Users/obrienjo/Documents/Github/UCD-project/deaths_by_qtr.csv'"
   ]
  },
  {
   "cell_type": "code",
   "execution_count": 3,
   "id": "9abbc5f2",
   "metadata": {},
   "outputs": [
    {
     "name": "stdout",
     "output_type": "stream",
     "text": [
      "200\n"
     ]
    }
   ],
   "source": [
    "#Scrape wikipedia website for gep data\n",
    "wikiurl = r'https://en.wikipedia.org/wiki/Economy_of_the_Republic_of_Ireland'\n",
    "table_class = \"wikitable sortable jquery-tablesorter\"\n",
    "response = requests.get(wikiurl)\n",
    "print(response.status_code)"
   ]
  },
  {
   "cell_type": "code",
   "execution_count": 4,
   "id": "1af90df5",
   "metadata": {},
   "outputs": [
    {
     "data": {
      "text/html": [
       "<div>\n",
       "<style scoped>\n",
       "    .dataframe tbody tr th:only-of-type {\n",
       "        vertical-align: middle;\n",
       "    }\n",
       "\n",
       "    .dataframe tbody tr th {\n",
       "        vertical-align: top;\n",
       "    }\n",
       "\n",
       "    .dataframe thead th {\n",
       "        text-align: right;\n",
       "    }\n",
       "</style>\n",
       "<table border=\"1\" class=\"dataframe\">\n",
       "  <thead>\n",
       "    <tr style=\"text-align: right;\">\n",
       "      <th></th>\n",
       "      <th>Year</th>\n",
       "      <th>GDP(in Bil. US$ PPP)</th>\n",
       "      <th>GDP per capita(in US$ PPP)</th>\n",
       "      <th>GDP growth(real)</th>\n",
       "      <th>Inflation rate(in Percent)</th>\n",
       "      <th>Unemployment (in Percent)</th>\n",
       "      <th>Government debt(in % of GDP)</th>\n",
       "    </tr>\n",
       "  </thead>\n",
       "  <tbody>\n",
       "    <tr>\n",
       "      <th>0</th>\n",
       "      <td>1980</td>\n",
       "      <td>24.2</td>\n",
       "      <td>7074</td>\n",
       "      <td>2.9 %</td>\n",
       "      <td>18.3 %</td>\n",
       "      <td>NaN</td>\n",
       "      <td>NaN</td>\n",
       "    </tr>\n",
       "    <tr>\n",
       "      <th>1</th>\n",
       "      <td>1981</td>\n",
       "      <td>27.2</td>\n",
       "      <td>7831</td>\n",
       "      <td>2.5 %</td>\n",
       "      <td>20.2 %</td>\n",
       "      <td>NaN</td>\n",
       "      <td>NaN</td>\n",
       "    </tr>\n",
       "    <tr>\n",
       "      <th>2</th>\n",
       "      <td>1982</td>\n",
       "      <td>29.3</td>\n",
       "      <td>8352</td>\n",
       "      <td>1.5 %</td>\n",
       "      <td>17.2 %</td>\n",
       "      <td>NaN</td>\n",
       "      <td>NaN</td>\n",
       "    </tr>\n",
       "    <tr>\n",
       "      <th>3</th>\n",
       "      <td>1983</td>\n",
       "      <td>30.2</td>\n",
       "      <td>8559</td>\n",
       "      <td>−0.7 %</td>\n",
       "      <td>10.4 %</td>\n",
       "      <td>NaN</td>\n",
       "      <td>NaN</td>\n",
       "    </tr>\n",
       "    <tr>\n",
       "      <th>4</th>\n",
       "      <td>1984</td>\n",
       "      <td>32.3</td>\n",
       "      <td>9082</td>\n",
       "      <td>3.2 %</td>\n",
       "      <td>8.6 %</td>\n",
       "      <td>NaN</td>\n",
       "      <td>NaN</td>\n",
       "    </tr>\n",
       "    <tr>\n",
       "      <th>5</th>\n",
       "      <td>1985</td>\n",
       "      <td>34.0</td>\n",
       "      <td>9526</td>\n",
       "      <td>1.9 %</td>\n",
       "      <td>5.5 %</td>\n",
       "      <td>17.7 %</td>\n",
       "      <td>NaN</td>\n",
       "    </tr>\n",
       "    <tr>\n",
       "      <th>6</th>\n",
       "      <td>1986</td>\n",
       "      <td>34.8</td>\n",
       "      <td>9757</td>\n",
       "      <td>−0.4 %</td>\n",
       "      <td>3.0 %</td>\n",
       "      <td>18.1 %</td>\n",
       "      <td>NaN</td>\n",
       "    </tr>\n",
       "    <tr>\n",
       "      <th>7</th>\n",
       "      <td>1987</td>\n",
       "      <td>37.0</td>\n",
       "      <td>10353</td>\n",
       "      <td>3.6 %</td>\n",
       "      <td>3.2 %</td>\n",
       "      <td>18.8 %</td>\n",
       "      <td>NaN</td>\n",
       "    </tr>\n",
       "    <tr>\n",
       "      <th>8</th>\n",
       "      <td>1988</td>\n",
       "      <td>39.5</td>\n",
       "      <td>11086</td>\n",
       "      <td>3.0 %</td>\n",
       "      <td>2.2 %</td>\n",
       "      <td>18.4 %</td>\n",
       "      <td>NaN</td>\n",
       "    </tr>\n",
       "    <tr>\n",
       "      <th>9</th>\n",
       "      <td>1989</td>\n",
       "      <td>43.3</td>\n",
       "      <td>12238</td>\n",
       "      <td>5.6 %</td>\n",
       "      <td>4.0 %</td>\n",
       "      <td>17.9 %</td>\n",
       "      <td>NaN</td>\n",
       "    </tr>\n",
       "  </tbody>\n",
       "</table>\n",
       "</div>"
      ],
      "text/plain": [
       "   Year  GDP(in Bil. US$ PPP)  GDP per capita(in US$ PPP) GDP growth(real)  \\\n",
       "0  1980                  24.2                        7074            2.9 %   \n",
       "1  1981                  27.2                        7831            2.5 %   \n",
       "2  1982                  29.3                        8352            1.5 %   \n",
       "3  1983                  30.2                        8559           −0.7 %   \n",
       "4  1984                  32.3                        9082            3.2 %   \n",
       "5  1985                  34.0                        9526            1.9 %   \n",
       "6  1986                  34.8                        9757           −0.4 %   \n",
       "7  1987                  37.0                       10353            3.6 %   \n",
       "8  1988                  39.5                       11086            3.0 %   \n",
       "9  1989                  43.3                       12238            5.6 %   \n",
       "\n",
       "  Inflation rate(in Percent) Unemployment (in Percent)  \\\n",
       "0                     18.3 %                       NaN   \n",
       "1                     20.2 %                       NaN   \n",
       "2                     17.2 %                       NaN   \n",
       "3                     10.4 %                       NaN   \n",
       "4                      8.6 %                       NaN   \n",
       "5                      5.5 %                    17.7 %   \n",
       "6                      3.0 %                    18.1 %   \n",
       "7                      3.2 %                    18.8 %   \n",
       "8                      2.2 %                    18.4 %   \n",
       "9                      4.0 %                    17.9 %   \n",
       "\n",
       "  Government debt(in % of GDP)  \n",
       "0                          NaN  \n",
       "1                          NaN  \n",
       "2                          NaN  \n",
       "3                          NaN  \n",
       "4                          NaN  \n",
       "5                          NaN  \n",
       "6                          NaN  \n",
       "7                          NaN  \n",
       "8                          NaN  \n",
       "9                          NaN  "
      ]
     },
     "execution_count": 4,
     "metadata": {},
     "output_type": "execute_result"
    }
   ],
   "source": [
    "# response 200 so OK to scrape table\n",
    "soup = BeautifulSoup(response.text, 'html.parser')\n",
    "indiatable = soup.find('table',{'class':\"wikitable\"})\n",
    "economic_df = pd.read_html(str(indiatable))\n",
    "economic_df = pd.DataFrame(economic_df[0])\n",
    "\n",
    "# check tabe is converted into a Dataframe\n",
    "economic_df.head(10)"
   ]
  },
  {
   "cell_type": "code",
   "execution_count": 5,
   "id": "ecb99ac5",
   "metadata": {},
   "outputs": [
    {
     "name": "stdout",
     "output_type": "stream",
     "text": [
      "<class 'pandas.core.frame.DataFrame'>\n",
      "RangeIndex: 38 entries, 0 to 37\n",
      "Data columns (total 7 columns):\n",
      " #   Column                        Non-Null Count  Dtype  \n",
      "---  ------                        --------------  -----  \n",
      " 0   Year                          38 non-null     int64  \n",
      " 1   GDP(in Bil. US$ PPP)          38 non-null     float64\n",
      " 2   GDP per capita(in US$ PPP)    38 non-null     int64  \n",
      " 3   GDP growth(real)              38 non-null     object \n",
      " 4   Inflation rate(in Percent)    38 non-null     object \n",
      " 5   Unemployment (in Percent)     33 non-null     object \n",
      " 6   Government debt(in % of GDP)  23 non-null     object \n",
      "dtypes: float64(1), int64(2), object(4)\n",
      "memory usage: 2.2+ KB\n"
     ]
    }
   ],
   "source": [
    "# check the data type of each column\n",
    "economic_df.info()"
   ]
  },
  {
   "cell_type": "code",
   "execution_count": 6,
   "id": "5061c4c3",
   "metadata": {},
   "outputs": [],
   "source": [
    "mort_df = pd.read_csv(mort_data)\n",
    "irl_pop = pd.read_csv(ireland_pop)\n",
    "qtr_death = pd.read_csv(death_by_qtr)"
   ]
  },
  {
   "cell_type": "markdown",
   "id": "05f7ec7a",
   "metadata": {},
   "source": [
    "## Cleaning datasets\n",
    "Mortality rate\n"
   ]
  },
  {
   "cell_type": "code",
   "execution_count": 7,
   "id": "00348953",
   "metadata": {},
   "outputs": [
    {
     "name": "stdout",
     "output_type": "stream",
     "text": [
      "<class 'pandas.core.frame.DataFrame'>\n",
      "RangeIndex: 342228 entries, 0 to 342227\n",
      "Data columns (total 7 columns):\n",
      " #   Column          Non-Null Count   Dtype \n",
      "---  ------          --------------   ----- \n",
      " 0   Statistic       342228 non-null  object\n",
      " 1   Year            342228 non-null  int64 \n",
      " 2   Age Group       342228 non-null  object\n",
      " 3   Sex             342228 non-null  object\n",
      " 4   Cause of Death  342228 non-null  object\n",
      " 5   UNIT            342228 non-null  object\n",
      " 6   VALUE           342227 non-null  object\n",
      "dtypes: int64(1), object(6)\n",
      "memory usage: 18.3+ MB\n"
     ]
    }
   ],
   "source": [
    "mort_df.info()"
   ]
  },
  {
   "cell_type": "code",
   "execution_count": 8,
   "id": "74d2954b",
   "metadata": {},
   "outputs": [
    {
     "data": {
      "text/html": [
       "<div>\n",
       "<style scoped>\n",
       "    .dataframe tbody tr th:only-of-type {\n",
       "        vertical-align: middle;\n",
       "    }\n",
       "\n",
       "    .dataframe tbody tr th {\n",
       "        vertical-align: top;\n",
       "    }\n",
       "\n",
       "    .dataframe thead th {\n",
       "        text-align: right;\n",
       "    }\n",
       "</style>\n",
       "<table border=\"1\" class=\"dataframe\">\n",
       "  <thead>\n",
       "    <tr style=\"text-align: right;\">\n",
       "      <th></th>\n",
       "      <th>Statistic</th>\n",
       "      <th>Year</th>\n",
       "      <th>Age Group</th>\n",
       "      <th>Sex</th>\n",
       "      <th>Cause of Death</th>\n",
       "      <th>UNIT</th>\n",
       "      <th>VALUE</th>\n",
       "    </tr>\n",
       "  </thead>\n",
       "  <tbody>\n",
       "    <tr>\n",
       "      <th>0</th>\n",
       "      <td>Deaths</td>\n",
       "      <td>1980</td>\n",
       "      <td>0 - 4 years</td>\n",
       "      <td>Both sexes</td>\n",
       "      <td>All causes of death</td>\n",
       "      <td>Number</td>\n",
       "      <td>1006</td>\n",
       "    </tr>\n",
       "    <tr>\n",
       "      <th>1</th>\n",
       "      <td>Deaths</td>\n",
       "      <td>1980</td>\n",
       "      <td>0 - 4 years</td>\n",
       "      <td>Both sexes</td>\n",
       "      <td>Infectious and parasitic diseases</td>\n",
       "      <td>Number</td>\n",
       "      <td>38</td>\n",
       "    </tr>\n",
       "    <tr>\n",
       "      <th>2</th>\n",
       "      <td>Deaths</td>\n",
       "      <td>1980</td>\n",
       "      <td>0 - 4 years</td>\n",
       "      <td>Both sexes</td>\n",
       "      <td>Tuberculosis</td>\n",
       "      <td>Number</td>\n",
       "      <td>0</td>\n",
       "    </tr>\n",
       "    <tr>\n",
       "      <th>3</th>\n",
       "      <td>Deaths</td>\n",
       "      <td>1980</td>\n",
       "      <td>0 - 4 years</td>\n",
       "      <td>Both sexes</td>\n",
       "      <td>Meningococcal infection</td>\n",
       "      <td>Number</td>\n",
       "      <td>14</td>\n",
       "    </tr>\n",
       "    <tr>\n",
       "      <th>4</th>\n",
       "      <td>Deaths</td>\n",
       "      <td>1980</td>\n",
       "      <td>0 - 4 years</td>\n",
       "      <td>Both sexes</td>\n",
       "      <td>Aids (HIV disease)</td>\n",
       "      <td>Number</td>\n",
       "      <td>-</td>\n",
       "    </tr>\n",
       "    <tr>\n",
       "      <th>5</th>\n",
       "      <td>Deaths</td>\n",
       "      <td>1980</td>\n",
       "      <td>0 - 4 years</td>\n",
       "      <td>Both sexes</td>\n",
       "      <td>Viral hepatitis</td>\n",
       "      <td>Number</td>\n",
       "      <td>0</td>\n",
       "    </tr>\n",
       "    <tr>\n",
       "      <th>6</th>\n",
       "      <td>Deaths</td>\n",
       "      <td>1980</td>\n",
       "      <td>0 - 4 years</td>\n",
       "      <td>Both sexes</td>\n",
       "      <td>All other infectious and parasitic diseases</td>\n",
       "      <td>Number</td>\n",
       "      <td>24</td>\n",
       "    </tr>\n",
       "    <tr>\n",
       "      <th>7</th>\n",
       "      <td>Deaths</td>\n",
       "      <td>1980</td>\n",
       "      <td>0 - 4 years</td>\n",
       "      <td>Both sexes</td>\n",
       "      <td>Neoplasms</td>\n",
       "      <td>Number</td>\n",
       "      <td>16</td>\n",
       "    </tr>\n",
       "    <tr>\n",
       "      <th>8</th>\n",
       "      <td>Deaths</td>\n",
       "      <td>1980</td>\n",
       "      <td>0 - 4 years</td>\n",
       "      <td>Both sexes</td>\n",
       "      <td>Malignant neoplasms</td>\n",
       "      <td>Number</td>\n",
       "      <td>16</td>\n",
       "    </tr>\n",
       "    <tr>\n",
       "      <th>9</th>\n",
       "      <td>Deaths</td>\n",
       "      <td>1980</td>\n",
       "      <td>0 - 4 years</td>\n",
       "      <td>Both sexes</td>\n",
       "      <td>Malignant neoplasm of lip, oral cavity, pharynx</td>\n",
       "      <td>Number</td>\n",
       "      <td>0</td>\n",
       "    </tr>\n",
       "  </tbody>\n",
       "</table>\n",
       "</div>"
      ],
      "text/plain": [
       "  Statistic  Year    Age Group         Sex  \\\n",
       "0    Deaths  1980  0 - 4 years  Both sexes   \n",
       "1    Deaths  1980  0 - 4 years  Both sexes   \n",
       "2    Deaths  1980  0 - 4 years  Both sexes   \n",
       "3    Deaths  1980  0 - 4 years  Both sexes   \n",
       "4    Deaths  1980  0 - 4 years  Both sexes   \n",
       "5    Deaths  1980  0 - 4 years  Both sexes   \n",
       "6    Deaths  1980  0 - 4 years  Both sexes   \n",
       "7    Deaths  1980  0 - 4 years  Both sexes   \n",
       "8    Deaths  1980  0 - 4 years  Both sexes   \n",
       "9    Deaths  1980  0 - 4 years  Both sexes   \n",
       "\n",
       "                                    Cause of Death    UNIT VALUE  \n",
       "0                              All causes of death  Number  1006  \n",
       "1                Infectious and parasitic diseases  Number    38  \n",
       "2                                     Tuberculosis  Number     0  \n",
       "3                          Meningococcal infection  Number    14  \n",
       "4                               Aids (HIV disease)  Number     -  \n",
       "5                                  Viral hepatitis  Number     0  \n",
       "6      All other infectious and parasitic diseases  Number    24  \n",
       "7                                        Neoplasms  Number    16  \n",
       "8                              Malignant neoplasms  Number    16  \n",
       "9  Malignant neoplasm of lip, oral cavity, pharynx  Number     0  "
      ]
     },
     "execution_count": 8,
     "metadata": {},
     "output_type": "execute_result"
    }
   ],
   "source": [
    "mort_df.head(10)"
   ]
  },
  {
   "cell_type": "markdown",
   "id": "09c23385",
   "metadata": {},
   "source": [
    "#### Confirm the maximum year of data in the dataset"
   ]
  },
  {
   "cell_type": "code",
   "execution_count": 9,
   "id": "ca9c8ae6",
   "metadata": {},
   "outputs": [
    {
     "data": {
      "text/plain": [
       "2017"
      ]
     },
     "execution_count": 9,
     "metadata": {},
     "output_type": "execute_result"
    }
   ],
   "source": [
    "mort_df['Year'].max()"
   ]
  },
  {
   "cell_type": "markdown",
   "id": "7006346f",
   "metadata": {},
   "source": [
    "Although the CSO file is called 1980 to 2020, the latest year repored is 2017. for this reason I have also imported qtr death rate from CSO which does not give cause of death but give death rate including 2020"
   ]
  },
  {
   "cell_type": "code",
   "execution_count": 10,
   "id": "8d290b24",
   "metadata": {},
   "outputs": [
    {
     "name": "stdout",
     "output_type": "stream",
     "text": [
      "342228\n"
     ]
    },
    {
     "data": {
      "text/plain": [
       "Statistic         0\n",
       "Year              0\n",
       "Age Group         0\n",
       "Sex               0\n",
       "Cause of Death    0\n",
       "UNIT              0\n",
       "VALUE             1\n",
       "dtype: int64"
      ]
     },
     "execution_count": 10,
     "metadata": {},
     "output_type": "execute_result"
    }
   ],
   "source": [
    "print(len(mort_df['VALUE']))\n",
    "mort_df.isna().sum()"
   ]
  },
  {
   "cell_type": "markdown",
   "id": "63c0fd20",
   "metadata": {},
   "source": [
    "One value is NaN. rather than dropping the NaN i will inspect the dataset to see if data is recoverable"
   ]
  },
  {
   "cell_type": "code",
   "execution_count": 11,
   "id": "bbbe635f",
   "metadata": {},
   "outputs": [
    {
     "data": {
      "text/plain": [
       "Index(['Statistic', 'Year', 'Age Group', 'Sex', 'Cause of Death', 'UNIT',\n",
       "       'VALUE'],\n",
       "      dtype='object')"
      ]
     },
     "execution_count": 11,
     "metadata": {},
     "output_type": "execute_result"
    }
   ],
   "source": [
    "mort_df.fillna('check', inplace = True)\n",
    "mort_df.columns"
   ]
  },
  {
   "cell_type": "code",
   "execution_count": 12,
   "id": "0c07633a",
   "metadata": {},
   "outputs": [
    {
     "data": {
      "text/html": [
       "<div>\n",
       "<style scoped>\n",
       "    .dataframe tbody tr th:only-of-type {\n",
       "        vertical-align: middle;\n",
       "    }\n",
       "\n",
       "    .dataframe tbody tr th {\n",
       "        vertical-align: top;\n",
       "    }\n",
       "\n",
       "    .dataframe thead th {\n",
       "        text-align: right;\n",
       "    }\n",
       "</style>\n",
       "<table border=\"1\" class=\"dataframe\">\n",
       "  <thead>\n",
       "    <tr style=\"text-align: right;\">\n",
       "      <th></th>\n",
       "      <th>Statistic</th>\n",
       "      <th>Year</th>\n",
       "      <th>Age Group</th>\n",
       "      <th>Sex</th>\n",
       "      <th>Cause of Death</th>\n",
       "      <th>UNIT</th>\n",
       "      <th>VALUE</th>\n",
       "    </tr>\n",
       "  </thead>\n",
       "  <tbody>\n",
       "    <tr>\n",
       "      <th>313812</th>\n",
       "      <td>Death Rate per 100,000 Population</td>\n",
       "      <td>2013</td>\n",
       "      <td>65 - 69 years</td>\n",
       "      <td>Both sexes</td>\n",
       "      <td>Malignant neoplasm of bladderb,Rate\"</td>\n",
       "      <td>5.79</td>\n",
       "      <td>check</td>\n",
       "    </tr>\n",
       "  </tbody>\n",
       "</table>\n",
       "</div>"
      ],
      "text/plain": [
       "                                Statistic  Year      Age Group         Sex  \\\n",
       "313812  Death Rate per 100,000 Population  2013  65 - 69 years  Both sexes   \n",
       "\n",
       "                              Cause of Death  UNIT  VALUE  \n",
       "313812  Malignant neoplasm of bladderb,Rate\"  5.79  check  "
      ]
     },
     "execution_count": 12,
     "metadata": {},
     "output_type": "execute_result"
    }
   ],
   "source": [
    "mort_df.query('VALUE == \"check\"')"
   ]
  },
  {
   "cell_type": "markdown",
   "id": "122251bf",
   "metadata": {},
   "source": [
    "The value in the Cause of death cell looks to be imported incorrelcty with the UNIT value concatenated with the Cause of Death value and the VALUE value in the UNIT column. I can confirm by checking the mean value of the Male individlual sexes for same year"
   ]
  },
  {
   "cell_type": "code",
   "execution_count": 13,
   "id": "977ee714",
   "metadata": {},
   "outputs": [],
   "source": [
    "mort_df_malignant_check = pd.DataFrame(mort_df[(mort_df['Year'] == 2013) & (mort_df['Age Group'] == '65 - 69 years') & (mort_df['Cause of Death'] == 'Malignant neoplasm of bladder') & (mort_df['Statistic'] == 'Death Rate per 100,000 Population')])\n",
    "mort_df_malignant_check['VALUE'] = mort_df_malignant_check['VALUE'].map(float)"
   ]
  },
  {
   "cell_type": "code",
   "execution_count": 14,
   "id": "239fe555",
   "metadata": {},
   "outputs": [
    {
     "data": {
      "text/html": [
       "<div>\n",
       "<style scoped>\n",
       "    .dataframe tbody tr th:only-of-type {\n",
       "        vertical-align: middle;\n",
       "    }\n",
       "\n",
       "    .dataframe tbody tr th {\n",
       "        vertical-align: top;\n",
       "    }\n",
       "\n",
       "    .dataframe thead th {\n",
       "        text-align: right;\n",
       "    }\n",
       "</style>\n",
       "<table border=\"1\" class=\"dataframe\">\n",
       "  <thead>\n",
       "    <tr style=\"text-align: right;\">\n",
       "      <th></th>\n",
       "      <th>Statistic</th>\n",
       "      <th>Year</th>\n",
       "      <th>Age Group</th>\n",
       "      <th>Sex</th>\n",
       "      <th>Cause of Death</th>\n",
       "      <th>UNIT</th>\n",
       "      <th>VALUE</th>\n",
       "    </tr>\n",
       "  </thead>\n",
       "  <tbody>\n",
       "    <tr>\n",
       "      <th>313891</th>\n",
       "      <td>Death Rate per 100,000 Population</td>\n",
       "      <td>2013</td>\n",
       "      <td>65 - 69 years</td>\n",
       "      <td>Male</td>\n",
       "      <td>Malignant neoplasm of bladder</td>\n",
       "      <td>Rate</td>\n",
       "      <td>8.43</td>\n",
       "    </tr>\n",
       "    <tr>\n",
       "      <th>313970</th>\n",
       "      <td>Death Rate per 100,000 Population</td>\n",
       "      <td>2013</td>\n",
       "      <td>65 - 69 years</td>\n",
       "      <td>Female</td>\n",
       "      <td>Malignant neoplasm of bladder</td>\n",
       "      <td>Rate</td>\n",
       "      <td>3.15</td>\n",
       "    </tr>\n",
       "  </tbody>\n",
       "</table>\n",
       "</div>"
      ],
      "text/plain": [
       "                                Statistic  Year      Age Group     Sex  \\\n",
       "313891  Death Rate per 100,000 Population  2013  65 - 69 years    Male   \n",
       "313970  Death Rate per 100,000 Population  2013  65 - 69 years  Female   \n",
       "\n",
       "                       Cause of Death  UNIT  VALUE  \n",
       "313891  Malignant neoplasm of bladder  Rate   8.43  \n",
       "313970  Malignant neoplasm of bladder  Rate   3.15  "
      ]
     },
     "execution_count": 14,
     "metadata": {},
     "output_type": "execute_result"
    }
   ],
   "source": [
    "mort_df_malignant_check"
   ]
  },
  {
   "cell_type": "code",
   "execution_count": 15,
   "id": "615bb63c",
   "metadata": {},
   "outputs": [
    {
     "data": {
      "text/plain": [
       "5.79"
      ]
     },
     "execution_count": 15,
     "metadata": {},
     "output_type": "execute_result"
    }
   ],
   "source": [
    "np.mean(mort_df_malignant_check['VALUE'])"
   ]
  },
  {
   "cell_type": "markdown",
   "id": "ff07f531",
   "metadata": {},
   "source": [
    "The mean is the same as the UNIT value and confirms the data value. I can replace the incorrect values with correct values"
   ]
  },
  {
   "cell_type": "code",
   "execution_count": 16,
   "id": "fbf0a2da",
   "metadata": {},
   "outputs": [],
   "source": [
    "mort_df.at[313812,'Cause of Death']='Malignant neoplasm of bladder'\n",
    "mort_df.at[313812,'UNIT'] = 'Rate'\n",
    "mort_df.at[313812,'VALUE'] = 5.79"
   ]
  },
  {
   "cell_type": "code",
   "execution_count": 17,
   "id": "31f7aad9",
   "metadata": {},
   "outputs": [
    {
     "data": {
      "text/html": [
       "<div>\n",
       "<style scoped>\n",
       "    .dataframe tbody tr th:only-of-type {\n",
       "        vertical-align: middle;\n",
       "    }\n",
       "\n",
       "    .dataframe tbody tr th {\n",
       "        vertical-align: top;\n",
       "    }\n",
       "\n",
       "    .dataframe thead th {\n",
       "        text-align: right;\n",
       "    }\n",
       "</style>\n",
       "<table border=\"1\" class=\"dataframe\">\n",
       "  <thead>\n",
       "    <tr style=\"text-align: right;\">\n",
       "      <th></th>\n",
       "      <th>Statistic</th>\n",
       "      <th>Year</th>\n",
       "      <th>Age Group</th>\n",
       "      <th>Sex</th>\n",
       "      <th>Cause of Death</th>\n",
       "      <th>UNIT</th>\n",
       "      <th>VALUE</th>\n",
       "    </tr>\n",
       "  </thead>\n",
       "  <tbody>\n",
       "  </tbody>\n",
       "</table>\n",
       "</div>"
      ],
      "text/plain": [
       "Empty DataFrame\n",
       "Columns: [Statistic, Year, Age Group, Sex, Cause of Death, UNIT, VALUE]\n",
       "Index: []"
      ]
     },
     "execution_count": 17,
     "metadata": {},
     "output_type": "execute_result"
    }
   ],
   "source": [
    "# Confirm 'Check' values are all removed\n",
    "mort_df.query('VALUE == \"check\"')"
   ]
  },
  {
   "cell_type": "code",
   "execution_count": 18,
   "id": "bd04d444",
   "metadata": {},
   "outputs": [
    {
     "name": "stdout",
     "output_type": "stream",
     "text": [
      "<class 'pandas.core.frame.DataFrame'>\n",
      "RangeIndex: 342228 entries, 0 to 342227\n",
      "Data columns (total 7 columns):\n",
      " #   Column          Non-Null Count   Dtype \n",
      "---  ------          --------------   ----- \n",
      " 0   Statistic       342228 non-null  object\n",
      " 1   Year            342228 non-null  int64 \n",
      " 2   Age Group       342228 non-null  object\n",
      " 3   Sex             342228 non-null  object\n",
      " 4   Cause of Death  342228 non-null  object\n",
      " 5   UNIT            342228 non-null  object\n",
      " 6   VALUE           342228 non-null  object\n",
      "dtypes: int64(1), object(6)\n",
      "memory usage: 18.3+ MB\n"
     ]
    }
   ],
   "source": [
    "mort_df.info()"
   ]
  },
  {
   "cell_type": "markdown",
   "id": "8e0859f7",
   "metadata": {},
   "source": [
    "VALUE is a object and to analyse the data I will convert the column into a float float Dtype"
   ]
  },
  {
   "cell_type": "code",
   "execution_count": 19,
   "id": "9f950912",
   "metadata": {},
   "outputs": [],
   "source": [
    "mort_df['VALUE'].replace({'-': 0 }, inplace=True)\n",
    "mort_df['VALUE'] = mort_df['VALUE'].map(float)"
   ]
  },
  {
   "cell_type": "code",
   "execution_count": 20,
   "id": "2967fa0e",
   "metadata": {},
   "outputs": [
    {
     "name": "stdout",
     "output_type": "stream",
     "text": [
      "<class 'pandas.core.frame.DataFrame'>\n",
      "RangeIndex: 342228 entries, 0 to 342227\n",
      "Data columns (total 7 columns):\n",
      " #   Column          Non-Null Count   Dtype  \n",
      "---  ------          --------------   -----  \n",
      " 0   Statistic       342228 non-null  object \n",
      " 1   Year            342228 non-null  int64  \n",
      " 2   Age Group       342228 non-null  object \n",
      " 3   Sex             342228 non-null  object \n",
      " 4   Cause of Death  342228 non-null  object \n",
      " 5   UNIT            342228 non-null  object \n",
      " 6   VALUE           342228 non-null  float64\n",
      "dtypes: float64(1), int64(1), object(5)\n",
      "memory usage: 18.3+ MB\n"
     ]
    }
   ],
   "source": [
    "mort_df.info()"
   ]
  },
  {
   "cell_type": "code",
   "execution_count": 21,
   "id": "f46e1be3",
   "metadata": {},
   "outputs": [
    {
     "data": {
      "text/plain": [
       "array(['Number', 'Rate'], dtype=object)"
      ]
     },
     "execution_count": 21,
     "metadata": {},
     "output_type": "execute_result"
    }
   ],
   "source": [
    "mort_df['UNIT'].unique()"
   ]
  },
  {
   "cell_type": "code",
   "execution_count": 22,
   "id": "1e825696",
   "metadata": {},
   "outputs": [],
   "source": [
    "mort_df_r = mort_df[mort_df['UNIT']== 'Number']"
   ]
  },
  {
   "cell_type": "markdown",
   "id": "9e3d1fcc",
   "metadata": {},
   "source": [
    "### Clean Population Data for the same time frame as mortality rates - 1980 to 2017"
   ]
  },
  {
   "cell_type": "code",
   "execution_count": 23,
   "id": "2c031e7c",
   "metadata": {
    "scrolled": true
   },
   "outputs": [
    {
     "data": {
      "text/html": [
       "<div>\n",
       "<style scoped>\n",
       "    .dataframe tbody tr th:only-of-type {\n",
       "        vertical-align: middle;\n",
       "    }\n",
       "\n",
       "    .dataframe tbody tr th {\n",
       "        vertical-align: top;\n",
       "    }\n",
       "\n",
       "    .dataframe thead th {\n",
       "        text-align: right;\n",
       "    }\n",
       "</style>\n",
       "<table border=\"1\" class=\"dataframe\">\n",
       "  <thead>\n",
       "    <tr style=\"text-align: right;\">\n",
       "      <th></th>\n",
       "      <th>Statistic</th>\n",
       "      <th>Year</th>\n",
       "      <th>Age Group</th>\n",
       "      <th>Sex</th>\n",
       "      <th>UNIT</th>\n",
       "      <th>VALUE</th>\n",
       "    </tr>\n",
       "  </thead>\n",
       "  <tbody>\n",
       "    <tr>\n",
       "      <th>0</th>\n",
       "      <td>Population Estimates (Persons in April)</td>\n",
       "      <td>1950</td>\n",
       "      <td>Under 1 year</td>\n",
       "      <td>Both sexes</td>\n",
       "      <td>Thousand</td>\n",
       "      <td>61.1</td>\n",
       "    </tr>\n",
       "    <tr>\n",
       "      <th>1</th>\n",
       "      <td>Population Estimates (Persons in April)</td>\n",
       "      <td>1950</td>\n",
       "      <td>Under 1 year</td>\n",
       "      <td>Male</td>\n",
       "      <td>Thousand</td>\n",
       "      <td>31.4</td>\n",
       "    </tr>\n",
       "    <tr>\n",
       "      <th>2</th>\n",
       "      <td>Population Estimates (Persons in April)</td>\n",
       "      <td>1950</td>\n",
       "      <td>Under 1 year</td>\n",
       "      <td>Female</td>\n",
       "      <td>Thousand</td>\n",
       "      <td>29.7</td>\n",
       "    </tr>\n",
       "    <tr>\n",
       "      <th>3</th>\n",
       "      <td>Population Estimates (Persons in April)</td>\n",
       "      <td>1950</td>\n",
       "      <td>0 - 4 years</td>\n",
       "      <td>Both sexes</td>\n",
       "      <td>Thousand</td>\n",
       "      <td>NaN</td>\n",
       "    </tr>\n",
       "    <tr>\n",
       "      <th>4</th>\n",
       "      <td>Population Estimates (Persons in April)</td>\n",
       "      <td>1950</td>\n",
       "      <td>0 - 4 years</td>\n",
       "      <td>Male</td>\n",
       "      <td>Thousand</td>\n",
       "      <td>NaN</td>\n",
       "    </tr>\n",
       "    <tr>\n",
       "      <th>5</th>\n",
       "      <td>Population Estimates (Persons in April)</td>\n",
       "      <td>1950</td>\n",
       "      <td>0 - 4 years</td>\n",
       "      <td>Female</td>\n",
       "      <td>Thousand</td>\n",
       "      <td>NaN</td>\n",
       "    </tr>\n",
       "    <tr>\n",
       "      <th>6</th>\n",
       "      <td>Population Estimates (Persons in April)</td>\n",
       "      <td>1950</td>\n",
       "      <td>0 - 14 years</td>\n",
       "      <td>Both sexes</td>\n",
       "      <td>Thousand</td>\n",
       "      <td>851.2</td>\n",
       "    </tr>\n",
       "    <tr>\n",
       "      <th>7</th>\n",
       "      <td>Population Estimates (Persons in April)</td>\n",
       "      <td>1950</td>\n",
       "      <td>0 - 14 years</td>\n",
       "      <td>Male</td>\n",
       "      <td>Thousand</td>\n",
       "      <td>434.6</td>\n",
       "    </tr>\n",
       "    <tr>\n",
       "      <th>8</th>\n",
       "      <td>Population Estimates (Persons in April)</td>\n",
       "      <td>1950</td>\n",
       "      <td>0 - 14 years</td>\n",
       "      <td>Female</td>\n",
       "      <td>Thousand</td>\n",
       "      <td>416.6</td>\n",
       "    </tr>\n",
       "    <tr>\n",
       "      <th>9</th>\n",
       "      <td>Population Estimates (Persons in April)</td>\n",
       "      <td>1950</td>\n",
       "      <td>1 - 4 years</td>\n",
       "      <td>Both sexes</td>\n",
       "      <td>Thousand</td>\n",
       "      <td>249.1</td>\n",
       "    </tr>\n",
       "  </tbody>\n",
       "</table>\n",
       "</div>"
      ],
      "text/plain": [
       "                                 Statistic  Year     Age Group         Sex  \\\n",
       "0  Population Estimates (Persons in April)  1950  Under 1 year  Both sexes   \n",
       "1  Population Estimates (Persons in April)  1950  Under 1 year        Male   \n",
       "2  Population Estimates (Persons in April)  1950  Under 1 year      Female   \n",
       "3  Population Estimates (Persons in April)  1950   0 - 4 years  Both sexes   \n",
       "4  Population Estimates (Persons in April)  1950   0 - 4 years        Male   \n",
       "5  Population Estimates (Persons in April)  1950   0 - 4 years      Female   \n",
       "6  Population Estimates (Persons in April)  1950  0 - 14 years  Both sexes   \n",
       "7  Population Estimates (Persons in April)  1950  0 - 14 years        Male   \n",
       "8  Population Estimates (Persons in April)  1950  0 - 14 years      Female   \n",
       "9  Population Estimates (Persons in April)  1950   1 - 4 years  Both sexes   \n",
       "\n",
       "       UNIT  VALUE  \n",
       "0  Thousand   61.1  \n",
       "1  Thousand   31.4  \n",
       "2  Thousand   29.7  \n",
       "3  Thousand    NaN  \n",
       "4  Thousand    NaN  \n",
       "5  Thousand    NaN  \n",
       "6  Thousand  851.2  \n",
       "7  Thousand  434.6  \n",
       "8  Thousand  416.6  \n",
       "9  Thousand  249.1  "
      ]
     },
     "execution_count": 23,
     "metadata": {},
     "output_type": "execute_result"
    }
   ],
   "source": [
    "irl_pop.head(10)"
   ]
  },
  {
   "cell_type": "code",
   "execution_count": 24,
   "id": "54e616c3",
   "metadata": {},
   "outputs": [
    {
     "data": {
      "text/plain": [
       "Statistic      0\n",
       "Year           0\n",
       "Age Group      0\n",
       "Sex            0\n",
       "UNIT           0\n",
       "VALUE        114\n",
       "dtype: int64"
      ]
     },
     "execution_count": 24,
     "metadata": {},
     "output_type": "execute_result"
    }
   ],
   "source": [
    "irl_pop.isna().sum()"
   ]
  },
  {
   "cell_type": "code",
   "execution_count": 25,
   "id": "3c259a21",
   "metadata": {},
   "outputs": [],
   "source": [
    "\n",
    "irl_pop_NA = irl_pop[irl_pop['VALUE'].isna()]"
   ]
  },
  {
   "cell_type": "code",
   "execution_count": 26,
   "id": "dcc0ccaa",
   "metadata": {},
   "outputs": [
    {
     "data": {
      "text/plain": [
       "array(['0 - 4 years'], dtype=object)"
      ]
     },
     "execution_count": 26,
     "metadata": {},
     "output_type": "execute_result"
    }
   ],
   "source": [
    "irl_pop_NA['Age Group'].unique()"
   ]
  },
  {
   "cell_type": "markdown",
   "id": "cf290d86",
   "metadata": {},
   "source": [
    "Only one age group is missing population data '0 - 4 years'\n",
    "I will subset the population data by year to match the mortility rate dataset. Then i will check the list of years that the VALUE is Nan for the '0 - 4 years' agegroup"
   ]
  },
  {
   "cell_type": "code",
   "execution_count": 27,
   "id": "04344b33",
   "metadata": {},
   "outputs": [
    {
     "name": "stdout",
     "output_type": "stream",
     "text": [
      "[1980, 1982, 1983, 1984, 1985, 1987, 1988, 1989, 1990, 1992, 1993, 1994, 1995]\n"
     ]
    }
   ],
   "source": [
    "irl_pop_80_17 = irl_pop[(irl_pop['Year'] >= 1980) & (irl_pop['Year'] <=2017)]\n",
    "irl_pop_80_17.isna().sum()\n",
    "irl_pop_80_17_na = irl_pop_80_17[irl_pop_80_17['VALUE'].isna()]\n",
    "irl_pop_80_17_yearsna = irl_pop_80_17['Year'][irl_pop_80_17['VALUE'].isna()]\n",
    "year_list_missing_data = list(irl_pop_80_17_yearsna.unique())\n",
    "print(year_list_missing_data)\n",
    "    "
   ]
  },
  {
   "cell_type": "code",
   "execution_count": 28,
   "id": "a6e195f2",
   "metadata": {},
   "outputs": [
    {
     "data": {
      "text/plain": [
       "array(['0 - 4 years'], dtype=object)"
      ]
     },
     "execution_count": 28,
     "metadata": {},
     "output_type": "execute_result"
    }
   ],
   "source": [
    "irl_pop_80_17_na['Age Group'].unique()\n"
   ]
  },
  {
   "cell_type": "markdown",
   "id": "391a4cd8",
   "metadata": {},
   "source": [
    "### Rather than dropping data, i will look at the 5 - 9 age grouo for the years where there is data for 0 - 4 agegroup and check if there is a strong corelation "
   ]
  },
  {
   "cell_type": "code",
   "execution_count": 29,
   "id": "88fca7ab",
   "metadata": {},
   "outputs": [
    {
     "name": "stdout",
     "output_type": "stream",
     "text": [
      "Age Group    0\n",
      "Statistic    0\n",
      "Year         0\n",
      "Sex          0\n",
      "UNIT         0\n",
      "VALUE        0\n",
      "dtype: int64\n",
      "0.8136002776506115\n"
     ]
    },
    {
     "data": {
      "image/png": "[encoded data removed]",
      "text/plain": [
       "<Figure size 432x288 with 1 Axes>"
      ]
     },
     "metadata": {
      "needs_background": "light"
     },
     "output_type": "display_data"
    }
   ],
   "source": [
    "irl_pop_95_17 = irl_pop_80_17[(irl_pop_80_17['Year'] > 1995) &(irl_pop_80_17['Year'] <=2017) & (irl_pop_80_17['Sex'] == 'Both sexes') ]\n",
    "\n",
    "indexset = irl_pop_95_17.reset_index(drop = True).set_index('Age Group')\n",
    "\n",
    "irl_pop_95_17_0to4 = indexset.loc['0 - 4 years'].reset_index(drop = False)\n",
    "irl_pop_95_17_5to9 = indexset.loc['5 - 9 years'].reset_index(drop = False)\n",
    "\n",
    "\n",
    "print(irl_pop_95_17_0to4.isna().sum())\n",
    "\n",
    "irl_pop_95_17_0to4['VALUE'] = irl_pop_95_17_0to4['VALUE'].map(float)\n",
    "irl_pop_95_17_5to9['VALUE'] = irl_pop_95_17_5to9['VALUE'].map(float)\n",
    "df_0to4 = pd.DataFrame(irl_pop_95_17_0to4)\n",
    "df_5to9 = pd.DataFrame(irl_pop_95_17_5to9)\n",
    "\n",
    "\n",
    "df3 = df_0to4.merge(df_5to9, on = 'Year')\n",
    "df3.columns\n",
    "correlation = df3['VALUE_x'].corr(df3['VALUE_y'])\n",
    "print(correlation)\n",
    "\n",
    "df3.plot(x ='Year', y=['VALUE_x','VALUE_y'], kind = 'line')\n",
    "plt.show()\n"
   ]
  },
  {
   "cell_type": "markdown",
   "id": "8d88ee09",
   "metadata": {},
   "source": [
    "There is a strong correlation between the agegroups. I will create a regression model for the years that I have data on both age groups and using the model predict the population for the 0-4 age groups using the 5 - 9 age groups as the predictor"
   ]
  },
  {
   "cell_type": "code",
   "execution_count": 30,
   "id": "53f416fd",
   "metadata": {},
   "outputs": [
    {
     "name": "stdout",
     "output_type": "stream",
     "text": [
      "coefficient of determination: 0.6619454117931518\n",
      "intercept: 88.43637012082363\n",
      "slope: [0.69550222]\n",
      "[262.31192592]\n"
     ]
    }
   ],
   "source": [
    "model = LinearRegression()\n",
    "x = np.array(df3['VALUE_x']).reshape((-1, 1))\n",
    "y = np.array(df3['VALUE_y'])\n",
    "model.fit(x, y)\n",
    "r_sq = model.score(x, y)\n",
    "print('coefficient of determination:', r_sq)\n",
    "print('intercept:', model.intercept_)\n",
    "print('slope:', model.coef_)\n",
    "print(model.intercept_ + model.coef_ * 250)\n"
   ]
  },
  {
   "cell_type": "code",
   "execution_count": 31,
   "id": "e16708c8",
   "metadata": {},
   "outputs": [
    {
     "name": "stdout",
     "output_type": "stream",
     "text": [
      "                                    Statistic  Year          Age Group  \\\n",
      "2430  Population Estimates (Persons in April)  1980       Under 1 year   \n",
      "2431  Population Estimates (Persons in April)  1980       Under 1 year   \n",
      "2432  Population Estimates (Persons in April)  1980       Under 1 year   \n",
      "2433  Population Estimates (Persons in April)  1980        0 - 4 years   \n",
      "2434  Population Estimates (Persons in April)  1980        0 - 4 years   \n",
      "...                                       ...   ...                ...   \n",
      "5503  Population Estimates (Persons in April)  2017  85 years and over   \n",
      "5504  Population Estimates (Persons in April)  2017  85 years and over   \n",
      "5505  Population Estimates (Persons in April)  2017           All ages   \n",
      "5506  Population Estimates (Persons in April)  2017           All ages   \n",
      "5507  Population Estimates (Persons in April)  2017           All ages   \n",
      "\n",
      "             Sex      UNIT   VALUE  \n",
      "2430  Both sexes  Thousand    72.5  \n",
      "2431        Male  Thousand    37.4  \n",
      "2432      Female  Thousand    35.1  \n",
      "2433  Both sexes  Thousand     NaN  \n",
      "2434        Male  Thousand     NaN  \n",
      "...          ...       ...     ...  \n",
      "5503        Male  Thousand    24.3  \n",
      "5504      Female  Thousand    45.3  \n",
      "5505  Both sexes  Thousand  4792.5  \n",
      "5506        Male  Thousand  2372.1  \n",
      "5507      Female  Thousand  2420.4  \n",
      "\n",
      "[3078 rows x 6 columns]\n"
     ]
    },
    {
     "data": {
      "text/plain": [
       "nan"
      ]
     },
     "execution_count": 31,
     "metadata": {},
     "output_type": "execute_result"
    }
   ],
   "source": [
    "irl_pop_80_17 = pd.DataFrame(irl_pop_80_17)\n",
    "print(irl_pop_80_17)\n",
    "irl_pop_80_17.iloc[3,5]"
   ]
  },
  {
   "cell_type": "markdown",
   "id": "33a3f6a1",
   "metadata": {},
   "source": [
    "Using iterrows we will complete the following\n",
    "1. replace the Nan with 'check'\n",
    "2. if the row value is check, add to a list the index of the check location\n",
    "3. identify the year and Sex of the missing value\n",
    "4. subset the data to identify the corresponding year and sex of the 5 to 9 year old of the missing value of 0 to 4 year old\n",
    "5. Use the regression model equation with the 5 to 9 year old age and append to a new age list\n",
    "6. create a list of the range of the length of the new_age list to use as index values\n",
    "7. loop through the list to replace the NaN values in the dataframe with the new age \n",
    "\n"
   ]
  },
  {
   "cell_type": "code",
   "execution_count": 32,
   "id": "a1ad878e",
   "metadata": {},
   "outputs": [
    {
     "name": "stdout",
     "output_type": "stream",
     "text": [
      "[331 212 207 332 213 207 333 214 207 333 214 208 333 214 207 333 213 207\n",
      " 331 212 206 326 210 203 317 205 199 304 199 193 298 196 190 292 193 187\n",
      " 288 190 185]\n",
      "[3, 4, 5, 165, 166, 167, 246, 247, 248, 327, 328, 329, 408, 409, 410, 570, 571, 572, 651, 652, 653, 732, 733, 734, 813, 814, 815, 975, 976, 977, 1056, 1057, 1058, 1137, 1138, 1139, 1218, 1219, 1220]\n"
     ]
    },
    {
     "data": {
      "text/html": [
       "<div>\n",
       "<style scoped>\n",
       "    .dataframe tbody tr th:only-of-type {\n",
       "        vertical-align: middle;\n",
       "    }\n",
       "\n",
       "    .dataframe tbody tr th {\n",
       "        vertical-align: top;\n",
       "    }\n",
       "\n",
       "    .dataframe thead th {\n",
       "        text-align: right;\n",
       "    }\n",
       "</style>\n",
       "<table border=\"1\" class=\"dataframe\">\n",
       "  <thead>\n",
       "    <tr style=\"text-align: right;\">\n",
       "      <th></th>\n",
       "      <th>Statistic</th>\n",
       "      <th>Year</th>\n",
       "      <th>Age Group</th>\n",
       "      <th>Sex</th>\n",
       "      <th>UNIT</th>\n",
       "      <th>VALUE</th>\n",
       "    </tr>\n",
       "  </thead>\n",
       "  <tbody>\n",
       "    <tr>\n",
       "      <th>2430</th>\n",
       "      <td>Population Estimates (Persons in April)</td>\n",
       "      <td>1980</td>\n",
       "      <td>Under 1 year</td>\n",
       "      <td>Both sexes</td>\n",
       "      <td>Thousand</td>\n",
       "      <td>72.5</td>\n",
       "    </tr>\n",
       "    <tr>\n",
       "      <th>2431</th>\n",
       "      <td>Population Estimates (Persons in April)</td>\n",
       "      <td>1980</td>\n",
       "      <td>Under 1 year</td>\n",
       "      <td>Male</td>\n",
       "      <td>Thousand</td>\n",
       "      <td>37.4</td>\n",
       "    </tr>\n",
       "    <tr>\n",
       "      <th>2432</th>\n",
       "      <td>Population Estimates (Persons in April)</td>\n",
       "      <td>1980</td>\n",
       "      <td>Under 1 year</td>\n",
       "      <td>Female</td>\n",
       "      <td>Thousand</td>\n",
       "      <td>35.1</td>\n",
       "    </tr>\n",
       "    <tr>\n",
       "      <th>2433</th>\n",
       "      <td>Population Estimates (Persons in April)</td>\n",
       "      <td>1980</td>\n",
       "      <td>0 - 4 years</td>\n",
       "      <td>Both sexes</td>\n",
       "      <td>Thousand</td>\n",
       "      <td>331</td>\n",
       "    </tr>\n",
       "    <tr>\n",
       "      <th>2434</th>\n",
       "      <td>Population Estimates (Persons in April)</td>\n",
       "      <td>1980</td>\n",
       "      <td>0 - 4 years</td>\n",
       "      <td>Male</td>\n",
       "      <td>Thousand</td>\n",
       "      <td>212</td>\n",
       "    </tr>\n",
       "    <tr>\n",
       "      <th>2435</th>\n",
       "      <td>Population Estimates (Persons in April)</td>\n",
       "      <td>1980</td>\n",
       "      <td>0 - 4 years</td>\n",
       "      <td>Female</td>\n",
       "      <td>Thousand</td>\n",
       "      <td>207</td>\n",
       "    </tr>\n",
       "    <tr>\n",
       "      <th>2436</th>\n",
       "      <td>Population Estimates (Persons in April)</td>\n",
       "      <td>1980</td>\n",
       "      <td>0 - 14 years</td>\n",
       "      <td>Both sexes</td>\n",
       "      <td>Thousand</td>\n",
       "      <td>1035.4</td>\n",
       "    </tr>\n",
       "    <tr>\n",
       "      <th>2437</th>\n",
       "      <td>Population Estimates (Persons in April)</td>\n",
       "      <td>1980</td>\n",
       "      <td>0 - 14 years</td>\n",
       "      <td>Male</td>\n",
       "      <td>Thousand</td>\n",
       "      <td>530.6</td>\n",
       "    </tr>\n",
       "    <tr>\n",
       "      <th>2438</th>\n",
       "      <td>Population Estimates (Persons in April)</td>\n",
       "      <td>1980</td>\n",
       "      <td>0 - 14 years</td>\n",
       "      <td>Female</td>\n",
       "      <td>Thousand</td>\n",
       "      <td>504.9</td>\n",
       "    </tr>\n",
       "    <tr>\n",
       "      <th>2439</th>\n",
       "      <td>Population Estimates (Persons in April)</td>\n",
       "      <td>1980</td>\n",
       "      <td>1 - 4 years</td>\n",
       "      <td>Both sexes</td>\n",
       "      <td>Thousand</td>\n",
       "      <td>275.2</td>\n",
       "    </tr>\n",
       "  </tbody>\n",
       "</table>\n",
       "</div>"
      ],
      "text/plain": [
       "                                    Statistic  Year     Age Group         Sex  \\\n",
       "2430  Population Estimates (Persons in April)  1980  Under 1 year  Both sexes   \n",
       "2431  Population Estimates (Persons in April)  1980  Under 1 year        Male   \n",
       "2432  Population Estimates (Persons in April)  1980  Under 1 year      Female   \n",
       "2433  Population Estimates (Persons in April)  1980   0 - 4 years  Both sexes   \n",
       "2434  Population Estimates (Persons in April)  1980   0 - 4 years        Male   \n",
       "2435  Population Estimates (Persons in April)  1980   0 - 4 years      Female   \n",
       "2436  Population Estimates (Persons in April)  1980  0 - 14 years  Both sexes   \n",
       "2437  Population Estimates (Persons in April)  1980  0 - 14 years        Male   \n",
       "2438  Population Estimates (Persons in April)  1980  0 - 14 years      Female   \n",
       "2439  Population Estimates (Persons in April)  1980   1 - 4 years  Both sexes   \n",
       "\n",
       "          UNIT   VALUE  \n",
       "2430  Thousand    72.5  \n",
       "2431  Thousand    37.4  \n",
       "2432  Thousand    35.1  \n",
       "2433  Thousand     331  \n",
       "2434  Thousand     212  \n",
       "2435  Thousand     207  \n",
       "2436  Thousand  1035.4  \n",
       "2437  Thousand   530.6  \n",
       "2438  Thousand   504.9  \n",
       "2439  Thousand   275.2  "
      ]
     },
     "execution_count": 32,
     "metadata": {},
     "output_type": "execute_result"
    }
   ],
   "source": [
    "\n",
    "irl_pop_80_17.fillna('check', inplace = True)\n",
    "new_age_list = []\n",
    "index_list = []\n",
    "for l, row in irl_pop_80_17.iterrows():    \n",
    "    if row['VALUE'] == 'check':\n",
    "        index = irl_pop_80_17.index.get_loc(l)\n",
    "        index = int(index)\n",
    "        index_list.append(index)   \n",
    "        year = row['Year']\n",
    "        sex = row['Sex']\n",
    "        age = '5 - 9 years'\n",
    "        indexset = irl_pop_80_17.reset_index(drop = True).set_index(['Year', 'Sex', 'Age Group'])\n",
    "        regressionx = indexset['VALUE'].loc[(year, sex, age)]\n",
    "        new_age = (model.intercept_ + model.coef_ * regressionx)\n",
    "        new_age = int(new_age)      \n",
    "        new_age_list.append(new_age)\n",
    "        irl_pop_80_17.iloc[index,5] == new_age\n",
    "        \n",
    "new_age_list = np.array(new_age_list).flatten()\n",
    "print(new_age_list)\n",
    "print(index_list)        \n",
    "\n",
    "index_list_range = list(range(len(index_list)))\n",
    "for i in index_list_range:\n",
    "     irl_pop_80_17.iloc[index_list[i],5] = new_age_list[i]\n",
    "irl_pop_80_17.head(10)        "
   ]
  },
  {
   "cell_type": "code",
   "execution_count": 33,
   "id": "c09e91cb",
   "metadata": {},
   "outputs": [
    {
     "name": "stdout",
     "output_type": "stream",
     "text": [
      "<class 'pandas.core.frame.DataFrame'>\n",
      "Int64Index: 3078 entries, 2430 to 5507\n",
      "Data columns (total 6 columns):\n",
      " #   Column     Non-Null Count  Dtype \n",
      "---  ------     --------------  ----- \n",
      " 0   Statistic  3078 non-null   object\n",
      " 1   Year       3078 non-null   int64 \n",
      " 2   Age Group  3078 non-null   object\n",
      " 3   Sex        3078 non-null   object\n",
      " 4   UNIT       3078 non-null   object\n",
      " 5   VALUE      3078 non-null   object\n",
      "dtypes: int64(1), object(5)\n",
      "memory usage: 232.9+ KB\n"
     ]
    }
   ],
   "source": [
    "irl_pop_80_17.info()\n",
    "irl_pop_80_17['UNIT'].unique()\n",
    "irl_pop_80_17['Population'] = irl_pop_80_17['VALUE'] * 1000"
   ]
  },
  {
   "cell_type": "code",
   "execution_count": 34,
   "id": "521c4c0d",
   "metadata": {},
   "outputs": [],
   "source": [
    "irl_pop_80_17_m = irl_pop_80_17[['Year', 'Age Group', 'Sex', 'Population']]"
   ]
  },
  {
   "cell_type": "code",
   "execution_count": 35,
   "id": "9957e160",
   "metadata": {},
   "outputs": [
    {
     "data": {
      "text/plain": [
       "(171114, 7)"
      ]
     },
     "execution_count": 35,
     "metadata": {},
     "output_type": "execute_result"
    }
   ],
   "source": [
    "mort_df_r.columns\n",
    "mort_df_r.shape"
   ]
  },
  {
   "cell_type": "markdown",
   "id": "42085ceb",
   "metadata": {},
   "source": [
    "### Clean quarterly data"
   ]
  },
  {
   "cell_type": "code",
   "execution_count": 36,
   "id": "395e0ac8",
   "metadata": {},
   "outputs": [
    {
     "name": "stdout",
     "output_type": "stream",
     "text": [
      "STATISTIC         0\n",
      "Statistic         0\n",
      "TLIST(Q1)         0\n",
      "Quarter           0\n",
      "VSAGES            0\n",
      "Age at Death      0\n",
      "UNIT              0\n",
      "VALUE           474\n",
      "dtype: int64\n",
      "<class 'pandas.core.frame.DataFrame'>\n",
      "RangeIndex: 3675 entries, 0 to 3674\n",
      "Data columns (total 8 columns):\n",
      " #   Column        Non-Null Count  Dtype  \n",
      "---  ------        --------------  -----  \n",
      " 0   STATISTIC     3675 non-null   object \n",
      " 1   Statistic     3675 non-null   object \n",
      " 2   TLIST(Q1)     3675 non-null   int64  \n",
      " 3   Quarter       3675 non-null   object \n",
      " 4   VSAGES        3675 non-null   int64  \n",
      " 5   Age at Death  3675 non-null   object \n",
      " 6   UNIT          3675 non-null   object \n",
      " 7   VALUE         3201 non-null   float64\n",
      "dtypes: float64(1), int64(2), object(5)\n",
      "memory usage: 229.8+ KB\n",
      "None\n"
     ]
    }
   ],
   "source": [
    "print(qtr_death.isna().sum())\n",
    "print(qtr_death.info())"
   ]
  },
  {
   "cell_type": "code",
   "execution_count": 37,
   "id": "d1c5a366",
   "metadata": {},
   "outputs": [
    {
     "data": {
      "text/html": [
       "<div>\n",
       "<style scoped>\n",
       "    .dataframe tbody tr th:only-of-type {\n",
       "        vertical-align: middle;\n",
       "    }\n",
       "\n",
       "    .dataframe tbody tr th {\n",
       "        vertical-align: top;\n",
       "    }\n",
       "\n",
       "    .dataframe thead th {\n",
       "        text-align: right;\n",
       "    }\n",
       "</style>\n",
       "<table border=\"1\" class=\"dataframe\">\n",
       "  <thead>\n",
       "    <tr style=\"text-align: right;\">\n",
       "      <th></th>\n",
       "      <th>STATISTIC</th>\n",
       "      <th>Statistic</th>\n",
       "      <th>TLIST(Q1)</th>\n",
       "      <th>Quarter</th>\n",
       "      <th>VSAGES</th>\n",
       "      <th>Age at Death</th>\n",
       "      <th>UNIT</th>\n",
       "      <th>VALUE</th>\n",
       "    </tr>\n",
       "  </thead>\n",
       "  <tbody>\n",
       "    <tr>\n",
       "      <th>0</th>\n",
       "      <td>VSAQ2</td>\n",
       "      <td>Deaths Registered Provisional</td>\n",
       "      <td>19601</td>\n",
       "      <td>1960Q1</td>\n",
       "      <td>1</td>\n",
       "      <td>Under 1 Year</td>\n",
       "      <td>Number</td>\n",
       "      <td>507.0</td>\n",
       "    </tr>\n",
       "    <tr>\n",
       "      <th>1</th>\n",
       "      <td>VSAQ2</td>\n",
       "      <td>Deaths Registered Provisional</td>\n",
       "      <td>19601</td>\n",
       "      <td>1960Q1</td>\n",
       "      <td>11</td>\n",
       "      <td>4 Weeks to 1 Year</td>\n",
       "      <td>Number</td>\n",
       "      <td>NaN</td>\n",
       "    </tr>\n",
       "    <tr>\n",
       "      <th>2</th>\n",
       "      <td>VSAQ2</td>\n",
       "      <td>Deaths Registered Provisional</td>\n",
       "      <td>19601</td>\n",
       "      <td>1960Q1</td>\n",
       "      <td>12</td>\n",
       "      <td>1 Week to 4 Weeks</td>\n",
       "      <td>Number</td>\n",
       "      <td>NaN</td>\n",
       "    </tr>\n",
       "    <tr>\n",
       "      <th>3</th>\n",
       "      <td>VSAQ2</td>\n",
       "      <td>Deaths Registered Provisional</td>\n",
       "      <td>19601</td>\n",
       "      <td>1960Q1</td>\n",
       "      <td>13</td>\n",
       "      <td>Under 7 Days</td>\n",
       "      <td>Number</td>\n",
       "      <td>NaN</td>\n",
       "    </tr>\n",
       "    <tr>\n",
       "      <th>4</th>\n",
       "      <td>VSAQ2</td>\n",
       "      <td>Deaths Registered Provisional</td>\n",
       "      <td>19601</td>\n",
       "      <td>1960Q1</td>\n",
       "      <td>131</td>\n",
       "      <td>1 to 7 Days</td>\n",
       "      <td>Number</td>\n",
       "      <td>NaN</td>\n",
       "    </tr>\n",
       "    <tr>\n",
       "      <th>5</th>\n",
       "      <td>VSAQ2</td>\n",
       "      <td>Deaths Registered Provisional</td>\n",
       "      <td>19601</td>\n",
       "      <td>1960Q1</td>\n",
       "      <td>132</td>\n",
       "      <td>Under 1 Day</td>\n",
       "      <td>Number</td>\n",
       "      <td>NaN</td>\n",
       "    </tr>\n",
       "    <tr>\n",
       "      <th>6</th>\n",
       "      <td>VSAQ2</td>\n",
       "      <td>Deaths Registered Provisional</td>\n",
       "      <td>19601</td>\n",
       "      <td>1960Q1</td>\n",
       "      <td>2</td>\n",
       "      <td>1 to 4 Years</td>\n",
       "      <td>Number</td>\n",
       "      <td>94.0</td>\n",
       "    </tr>\n",
       "    <tr>\n",
       "      <th>7</th>\n",
       "      <td>VSAQ2</td>\n",
       "      <td>Deaths Registered Provisional</td>\n",
       "      <td>19601</td>\n",
       "      <td>1960Q1</td>\n",
       "      <td>3</td>\n",
       "      <td>5 to 14 Years</td>\n",
       "      <td>Number</td>\n",
       "      <td>73.0</td>\n",
       "    </tr>\n",
       "    <tr>\n",
       "      <th>8</th>\n",
       "      <td>VSAQ2</td>\n",
       "      <td>Deaths Registered Provisional</td>\n",
       "      <td>19601</td>\n",
       "      <td>1960Q1</td>\n",
       "      <td>4</td>\n",
       "      <td>15 to 24 Years</td>\n",
       "      <td>Number</td>\n",
       "      <td>56.0</td>\n",
       "    </tr>\n",
       "    <tr>\n",
       "      <th>9</th>\n",
       "      <td>VSAQ2</td>\n",
       "      <td>Deaths Registered Provisional</td>\n",
       "      <td>19601</td>\n",
       "      <td>1960Q1</td>\n",
       "      <td>5</td>\n",
       "      <td>25 to 34 Years</td>\n",
       "      <td>Number</td>\n",
       "      <td>100.0</td>\n",
       "    </tr>\n",
       "  </tbody>\n",
       "</table>\n",
       "</div>"
      ],
      "text/plain": [
       "  STATISTIC                      Statistic  TLIST(Q1) Quarter  VSAGES  \\\n",
       "0     VSAQ2  Deaths Registered Provisional      19601  1960Q1       1   \n",
       "1     VSAQ2  Deaths Registered Provisional      19601  1960Q1      11   \n",
       "2     VSAQ2  Deaths Registered Provisional      19601  1960Q1      12   \n",
       "3     VSAQ2  Deaths Registered Provisional      19601  1960Q1      13   \n",
       "4     VSAQ2  Deaths Registered Provisional      19601  1960Q1     131   \n",
       "5     VSAQ2  Deaths Registered Provisional      19601  1960Q1     132   \n",
       "6     VSAQ2  Deaths Registered Provisional      19601  1960Q1       2   \n",
       "7     VSAQ2  Deaths Registered Provisional      19601  1960Q1       3   \n",
       "8     VSAQ2  Deaths Registered Provisional      19601  1960Q1       4   \n",
       "9     VSAQ2  Deaths Registered Provisional      19601  1960Q1       5   \n",
       "\n",
       "        Age at Death    UNIT  VALUE  \n",
       "0       Under 1 Year  Number  507.0  \n",
       "1  4 Weeks to 1 Year  Number    NaN  \n",
       "2  1 Week to 4 Weeks  Number    NaN  \n",
       "3       Under 7 Days  Number    NaN  \n",
       "4        1 to 7 Days  Number    NaN  \n",
       "5        Under 1 Day  Number    NaN  \n",
       "6       1 to 4 Years  Number   94.0  \n",
       "7      5 to 14 Years  Number   73.0  \n",
       "8     15 to 24 Years  Number   56.0  \n",
       "9     25 to 34 Years  Number  100.0  "
      ]
     },
     "execution_count": 37,
     "metadata": {},
     "output_type": "execute_result"
    }
   ],
   "source": [
    "qtr_death.head(10)"
   ]
  },
  {
   "cell_type": "code",
   "execution_count": 38,
   "id": "c5227a52",
   "metadata": {},
   "outputs": [],
   "source": [
    "qtr_death['Year'] = qtr_death['Quarter'].str[:4]"
   ]
  },
  {
   "cell_type": "code",
   "execution_count": 39,
   "id": "046b445a",
   "metadata": {},
   "outputs": [
    {
     "data": {
      "text/html": [
       "<div>\n",
       "<style scoped>\n",
       "    .dataframe tbody tr th:only-of-type {\n",
       "        vertical-align: middle;\n",
       "    }\n",
       "\n",
       "    .dataframe tbody tr th {\n",
       "        vertical-align: top;\n",
       "    }\n",
       "\n",
       "    .dataframe thead th {\n",
       "        text-align: right;\n",
       "    }\n",
       "</style>\n",
       "<table border=\"1\" class=\"dataframe\">\n",
       "  <thead>\n",
       "    <tr style=\"text-align: right;\">\n",
       "      <th></th>\n",
       "      <th>STATISTIC</th>\n",
       "      <th>Statistic</th>\n",
       "      <th>TLIST(Q1)</th>\n",
       "      <th>Quarter</th>\n",
       "      <th>VSAGES</th>\n",
       "      <th>Age at Death</th>\n",
       "      <th>UNIT</th>\n",
       "      <th>VALUE</th>\n",
       "      <th>Year</th>\n",
       "    </tr>\n",
       "  </thead>\n",
       "  <tbody>\n",
       "    <tr>\n",
       "      <th>0</th>\n",
       "      <td>VSAQ2</td>\n",
       "      <td>Deaths Registered Provisional</td>\n",
       "      <td>19601</td>\n",
       "      <td>1960Q1</td>\n",
       "      <td>1</td>\n",
       "      <td>Under 1 Year</td>\n",
       "      <td>Number</td>\n",
       "      <td>507.0</td>\n",
       "      <td>1960</td>\n",
       "    </tr>\n",
       "    <tr>\n",
       "      <th>1</th>\n",
       "      <td>VSAQ2</td>\n",
       "      <td>Deaths Registered Provisional</td>\n",
       "      <td>19601</td>\n",
       "      <td>1960Q1</td>\n",
       "      <td>11</td>\n",
       "      <td>4 Weeks to 1 Year</td>\n",
       "      <td>Number</td>\n",
       "      <td>NaN</td>\n",
       "      <td>1960</td>\n",
       "    </tr>\n",
       "    <tr>\n",
       "      <th>2</th>\n",
       "      <td>VSAQ2</td>\n",
       "      <td>Deaths Registered Provisional</td>\n",
       "      <td>19601</td>\n",
       "      <td>1960Q1</td>\n",
       "      <td>12</td>\n",
       "      <td>1 Week to 4 Weeks</td>\n",
       "      <td>Number</td>\n",
       "      <td>NaN</td>\n",
       "      <td>1960</td>\n",
       "    </tr>\n",
       "    <tr>\n",
       "      <th>3</th>\n",
       "      <td>VSAQ2</td>\n",
       "      <td>Deaths Registered Provisional</td>\n",
       "      <td>19601</td>\n",
       "      <td>1960Q1</td>\n",
       "      <td>13</td>\n",
       "      <td>Under 7 Days</td>\n",
       "      <td>Number</td>\n",
       "      <td>NaN</td>\n",
       "      <td>1960</td>\n",
       "    </tr>\n",
       "    <tr>\n",
       "      <th>4</th>\n",
       "      <td>VSAQ2</td>\n",
       "      <td>Deaths Registered Provisional</td>\n",
       "      <td>19601</td>\n",
       "      <td>1960Q1</td>\n",
       "      <td>131</td>\n",
       "      <td>1 to 7 Days</td>\n",
       "      <td>Number</td>\n",
       "      <td>NaN</td>\n",
       "      <td>1960</td>\n",
       "    </tr>\n",
       "    <tr>\n",
       "      <th>5</th>\n",
       "      <td>VSAQ2</td>\n",
       "      <td>Deaths Registered Provisional</td>\n",
       "      <td>19601</td>\n",
       "      <td>1960Q1</td>\n",
       "      <td>132</td>\n",
       "      <td>Under 1 Day</td>\n",
       "      <td>Number</td>\n",
       "      <td>NaN</td>\n",
       "      <td>1960</td>\n",
       "    </tr>\n",
       "    <tr>\n",
       "      <th>6</th>\n",
       "      <td>VSAQ2</td>\n",
       "      <td>Deaths Registered Provisional</td>\n",
       "      <td>19601</td>\n",
       "      <td>1960Q1</td>\n",
       "      <td>2</td>\n",
       "      <td>1 to 4 Years</td>\n",
       "      <td>Number</td>\n",
       "      <td>94.0</td>\n",
       "      <td>1960</td>\n",
       "    </tr>\n",
       "    <tr>\n",
       "      <th>7</th>\n",
       "      <td>VSAQ2</td>\n",
       "      <td>Deaths Registered Provisional</td>\n",
       "      <td>19601</td>\n",
       "      <td>1960Q1</td>\n",
       "      <td>3</td>\n",
       "      <td>5 to 14 Years</td>\n",
       "      <td>Number</td>\n",
       "      <td>73.0</td>\n",
       "      <td>1960</td>\n",
       "    </tr>\n",
       "    <tr>\n",
       "      <th>8</th>\n",
       "      <td>VSAQ2</td>\n",
       "      <td>Deaths Registered Provisional</td>\n",
       "      <td>19601</td>\n",
       "      <td>1960Q1</td>\n",
       "      <td>4</td>\n",
       "      <td>15 to 24 Years</td>\n",
       "      <td>Number</td>\n",
       "      <td>56.0</td>\n",
       "      <td>1960</td>\n",
       "    </tr>\n",
       "    <tr>\n",
       "      <th>9</th>\n",
       "      <td>VSAQ2</td>\n",
       "      <td>Deaths Registered Provisional</td>\n",
       "      <td>19601</td>\n",
       "      <td>1960Q1</td>\n",
       "      <td>5</td>\n",
       "      <td>25 to 34 Years</td>\n",
       "      <td>Number</td>\n",
       "      <td>100.0</td>\n",
       "      <td>1960</td>\n",
       "    </tr>\n",
       "  </tbody>\n",
       "</table>\n",
       "</div>"
      ],
      "text/plain": [
       "  STATISTIC                      Statistic  TLIST(Q1) Quarter  VSAGES  \\\n",
       "0     VSAQ2  Deaths Registered Provisional      19601  1960Q1       1   \n",
       "1     VSAQ2  Deaths Registered Provisional      19601  1960Q1      11   \n",
       "2     VSAQ2  Deaths Registered Provisional      19601  1960Q1      12   \n",
       "3     VSAQ2  Deaths Registered Provisional      19601  1960Q1      13   \n",
       "4     VSAQ2  Deaths Registered Provisional      19601  1960Q1     131   \n",
       "5     VSAQ2  Deaths Registered Provisional      19601  1960Q1     132   \n",
       "6     VSAQ2  Deaths Registered Provisional      19601  1960Q1       2   \n",
       "7     VSAQ2  Deaths Registered Provisional      19601  1960Q1       3   \n",
       "8     VSAQ2  Deaths Registered Provisional      19601  1960Q1       4   \n",
       "9     VSAQ2  Deaths Registered Provisional      19601  1960Q1       5   \n",
       "\n",
       "        Age at Death    UNIT  VALUE  Year  \n",
       "0       Under 1 Year  Number  507.0  1960  \n",
       "1  4 Weeks to 1 Year  Number    NaN  1960  \n",
       "2  1 Week to 4 Weeks  Number    NaN  1960  \n",
       "3       Under 7 Days  Number    NaN  1960  \n",
       "4        1 to 7 Days  Number    NaN  1960  \n",
       "5        Under 1 Day  Number    NaN  1960  \n",
       "6       1 to 4 Years  Number   94.0  1960  \n",
       "7      5 to 14 Years  Number   73.0  1960  \n",
       "8     15 to 24 Years  Number   56.0  1960  \n",
       "9     25 to 34 Years  Number  100.0  1960  "
      ]
     },
     "execution_count": 39,
     "metadata": {},
     "output_type": "execute_result"
    }
   ],
   "source": [
    "qtr_death.head(10)"
   ]
  },
  {
   "cell_type": "code",
   "execution_count": 40,
   "id": "946a4008",
   "metadata": {},
   "outputs": [],
   "source": [
    "\n",
    "\n",
    "qtr_death['Year'] = qtr_death['Year'].map(int)\n",
    "\n",
    "# create subsets of qtr data to join onto deaths by year data\n",
    "indexset = qtr_death.reset_index(drop = False).set_index('Year')\n",
    "pop_qtr_18to20 = indexset.loc[[2018,2019,2020]].reset_index(drop = False)\n",
    "\n",
    "\n",
    "pop_qtr_18to20['UNIT'].unique()\n",
    "pop_qtr_18to20.isna().sum()\n",
    "\n",
    "year_list = list(range(1980,2021))\n",
    "# create subsets of qtr data to compare against the yearly data\n",
    "qtr_death['Year'] = qtr_death['Year'].map(int)\n",
    "pop_qtr_80to20 = qtr_death[(qtr_death['Year'] >= 1980) & (qtr_death['Year'] <= 2020)]\n",
    "\n",
    "pop_qtr_80to20 = pd.DataFrame(pop_qtr_80to20)\n",
    "pop_qtr_80to20['VALUE'].fillna(0, inplace = True)\n",
    "pop_80to20_group = pop_qtr_80to20.groupby('Year')['VALUE'].sum().reset_index()\n",
    "pop_80to20_group = pd.DataFrame(pop_80to20_group)\n",
    "\n",
    "pop_80to20_group.rename(columns={'Year': 'Year', 'VALUE': 'VALUE'}, inplace=True)"
   ]
  },
  {
   "cell_type": "code",
   "execution_count": 41,
   "id": "a9f276c9",
   "metadata": {},
   "outputs": [
    {
     "data": {
      "text/html": [
       "<div>\n",
       "<style scoped>\n",
       "    .dataframe tbody tr th:only-of-type {\n",
       "        vertical-align: middle;\n",
       "    }\n",
       "\n",
       "    .dataframe tbody tr th {\n",
       "        vertical-align: top;\n",
       "    }\n",
       "\n",
       "    .dataframe thead th {\n",
       "        text-align: right;\n",
       "    }\n",
       "</style>\n",
       "<table border=\"1\" class=\"dataframe\">\n",
       "  <thead>\n",
       "    <tr style=\"text-align: right;\">\n",
       "      <th></th>\n",
       "      <th>Year</th>\n",
       "      <th>index</th>\n",
       "      <th>STATISTIC</th>\n",
       "      <th>Statistic</th>\n",
       "      <th>TLIST(Q1)</th>\n",
       "      <th>Quarter</th>\n",
       "      <th>VSAGES</th>\n",
       "      <th>Age at Death</th>\n",
       "      <th>UNIT</th>\n",
       "      <th>VALUE</th>\n",
       "    </tr>\n",
       "  </thead>\n",
       "  <tbody>\n",
       "    <tr>\n",
       "      <th>75</th>\n",
       "      <td>2019</td>\n",
       "      <td>3555</td>\n",
       "      <td>VSAQ2</td>\n",
       "      <td>Deaths Registered Provisional</td>\n",
       "      <td>20192</td>\n",
       "      <td>2019Q2</td>\n",
       "      <td>1</td>\n",
       "      <td>Under 1 Year</td>\n",
       "      <td>Number</td>\n",
       "      <td>NaN</td>\n",
       "    </tr>\n",
       "    <tr>\n",
       "      <th>90</th>\n",
       "      <td>2019</td>\n",
       "      <td>3570</td>\n",
       "      <td>VSAQ2</td>\n",
       "      <td>Deaths Registered Provisional</td>\n",
       "      <td>20193</td>\n",
       "      <td>2019Q3</td>\n",
       "      <td>1</td>\n",
       "      <td>Under 1 Year</td>\n",
       "      <td>Number</td>\n",
       "      <td>NaN</td>\n",
       "    </tr>\n",
       "  </tbody>\n",
       "</table>\n",
       "</div>"
      ],
      "text/plain": [
       "    Year  index STATISTIC                      Statistic  TLIST(Q1) Quarter  \\\n",
       "75  2019   3555     VSAQ2  Deaths Registered Provisional      20192  2019Q2   \n",
       "90  2019   3570     VSAQ2  Deaths Registered Provisional      20193  2019Q3   \n",
       "\n",
       "    VSAGES  Age at Death    UNIT  VALUE  \n",
       "75       1  Under 1 Year  Number    NaN  \n",
       "90       1  Under 1 Year  Number    NaN  "
      ]
     },
     "execution_count": 41,
     "metadata": {},
     "output_type": "execute_result"
    }
   ],
   "source": [
    "pop_qtr_18to20[pop_qtr_18to20['VALUE'].isna()]\n"
   ]
  },
  {
   "cell_type": "code",
   "execution_count": 42,
   "id": "7389f222",
   "metadata": {},
   "outputs": [
    {
     "name": "stdout",
     "output_type": "stream",
     "text": [
      "<class 'pandas.core.frame.DataFrame'>\n",
      "RangeIndex: 3675 entries, 0 to 3674\n",
      "Data columns (total 9 columns):\n",
      " #   Column        Non-Null Count  Dtype  \n",
      "---  ------        --------------  -----  \n",
      " 0   STATISTIC     3675 non-null   object \n",
      " 1   Statistic     3675 non-null   object \n",
      " 2   TLIST(Q1)     3675 non-null   int64  \n",
      " 3   Quarter       3675 non-null   object \n",
      " 4   VSAGES        3675 non-null   int64  \n",
      " 5   Age at Death  3675 non-null   object \n",
      " 6   UNIT          3675 non-null   object \n",
      " 7   VALUE         3201 non-null   float64\n",
      " 8   Year          3675 non-null   int64  \n",
      "dtypes: float64(1), int64(3), object(5)\n",
      "memory usage: 258.5+ KB\n"
     ]
    }
   ],
   "source": [
    "pop_qtr_18to20['VALUE'].fillna(0, inplace = True)\n",
    "\n",
    "pop_qtr_18to20.isna().sum()\n",
    "qtr_death.info()"
   ]
  },
  {
   "cell_type": "code",
   "execution_count": 43,
   "id": "bf94429d",
   "metadata": {},
   "outputs": [
    {
     "data": {
      "text/html": [
       "<div>\n",
       "<style scoped>\n",
       "    .dataframe tbody tr th:only-of-type {\n",
       "        vertical-align: middle;\n",
       "    }\n",
       "\n",
       "    .dataframe tbody tr th {\n",
       "        vertical-align: top;\n",
       "    }\n",
       "\n",
       "    .dataframe thead th {\n",
       "        text-align: right;\n",
       "    }\n",
       "</style>\n",
       "<table border=\"1\" class=\"dataframe\">\n",
       "  <thead>\n",
       "    <tr style=\"text-align: right;\">\n",
       "      <th></th>\n",
       "      <th>Year</th>\n",
       "      <th>VALUE</th>\n",
       "    </tr>\n",
       "  </thead>\n",
       "  <tbody>\n",
       "    <tr>\n",
       "      <th>0</th>\n",
       "      <td>2018</td>\n",
       "      <td>31858.0</td>\n",
       "    </tr>\n",
       "    <tr>\n",
       "      <th>1</th>\n",
       "      <td>2019</td>\n",
       "      <td>31342.0</td>\n",
       "    </tr>\n",
       "    <tr>\n",
       "      <th>2</th>\n",
       "      <td>2020</td>\n",
       "      <td>31979.0</td>\n",
       "    </tr>\n",
       "  </tbody>\n",
       "</table>\n",
       "</div>"
      ],
      "text/plain": [
       "   Year    VALUE\n",
       "0  2018  31858.0\n",
       "1  2019  31342.0\n",
       "2  2020  31979.0"
      ]
     },
     "execution_count": 43,
     "metadata": {},
     "output_type": "execute_result"
    }
   ],
   "source": [
    "pop_18to20_group = pop_qtr_18to20.groupby('Year')['VALUE'].sum().reset_index()\n",
    "pop_18to20_group = pd.DataFrame(pop_18to20_group)\n",
    "\n",
    "pop_18to20_group.rename(columns={'Year': 'Year', 'VALUE': 'VALUE'}, inplace=True)\n",
    "pop_18to20_group.head()"
   ]
  },
  {
   "cell_type": "markdown",
   "id": "974ea328",
   "metadata": {},
   "source": [
    "### Clean economic data"
   ]
  },
  {
   "cell_type": "code",
   "execution_count": 44,
   "id": "a0440f5e",
   "metadata": {},
   "outputs": [
    {
     "data": {
      "text/html": [
       "<div>\n",
       "<style scoped>\n",
       "    .dataframe tbody tr th:only-of-type {\n",
       "        vertical-align: middle;\n",
       "    }\n",
       "\n",
       "    .dataframe tbody tr th {\n",
       "        vertical-align: top;\n",
       "    }\n",
       "\n",
       "    .dataframe thead th {\n",
       "        text-align: right;\n",
       "    }\n",
       "</style>\n",
       "<table border=\"1\" class=\"dataframe\">\n",
       "  <thead>\n",
       "    <tr style=\"text-align: right;\">\n",
       "      <th></th>\n",
       "      <th>Year</th>\n",
       "      <th>GDP(in Bil. US$ PPP)</th>\n",
       "      <th>GDP per capita(in US$ PPP)</th>\n",
       "      <th>GDP growth(real)</th>\n",
       "      <th>Inflation rate(in Percent)</th>\n",
       "      <th>Unemployment (in Percent)</th>\n",
       "      <th>Government debt(in % of GDP)</th>\n",
       "    </tr>\n",
       "  </thead>\n",
       "  <tbody>\n",
       "    <tr>\n",
       "      <th>0</th>\n",
       "      <td>1980</td>\n",
       "      <td>24.2</td>\n",
       "      <td>7074</td>\n",
       "      <td>2.9 %</td>\n",
       "      <td>18.3 %</td>\n",
       "      <td>NaN</td>\n",
       "      <td>NaN</td>\n",
       "    </tr>\n",
       "    <tr>\n",
       "      <th>1</th>\n",
       "      <td>1981</td>\n",
       "      <td>27.2</td>\n",
       "      <td>7831</td>\n",
       "      <td>2.5 %</td>\n",
       "      <td>20.2 %</td>\n",
       "      <td>NaN</td>\n",
       "      <td>NaN</td>\n",
       "    </tr>\n",
       "    <tr>\n",
       "      <th>2</th>\n",
       "      <td>1982</td>\n",
       "      <td>29.3</td>\n",
       "      <td>8352</td>\n",
       "      <td>1.5 %</td>\n",
       "      <td>17.2 %</td>\n",
       "      <td>NaN</td>\n",
       "      <td>NaN</td>\n",
       "    </tr>\n",
       "    <tr>\n",
       "      <th>3</th>\n",
       "      <td>1983</td>\n",
       "      <td>30.2</td>\n",
       "      <td>8559</td>\n",
       "      <td>−0.7 %</td>\n",
       "      <td>10.4 %</td>\n",
       "      <td>NaN</td>\n",
       "      <td>NaN</td>\n",
       "    </tr>\n",
       "    <tr>\n",
       "      <th>4</th>\n",
       "      <td>1984</td>\n",
       "      <td>32.3</td>\n",
       "      <td>9082</td>\n",
       "      <td>3.2 %</td>\n",
       "      <td>8.6 %</td>\n",
       "      <td>NaN</td>\n",
       "      <td>NaN</td>\n",
       "    </tr>\n",
       "    <tr>\n",
       "      <th>5</th>\n",
       "      <td>1985</td>\n",
       "      <td>34.0</td>\n",
       "      <td>9526</td>\n",
       "      <td>1.9 %</td>\n",
       "      <td>5.5 %</td>\n",
       "      <td>17.7 %</td>\n",
       "      <td>NaN</td>\n",
       "    </tr>\n",
       "    <tr>\n",
       "      <th>6</th>\n",
       "      <td>1986</td>\n",
       "      <td>34.8</td>\n",
       "      <td>9757</td>\n",
       "      <td>−0.4 %</td>\n",
       "      <td>3.0 %</td>\n",
       "      <td>18.1 %</td>\n",
       "      <td>NaN</td>\n",
       "    </tr>\n",
       "    <tr>\n",
       "      <th>7</th>\n",
       "      <td>1987</td>\n",
       "      <td>37.0</td>\n",
       "      <td>10353</td>\n",
       "      <td>3.6 %</td>\n",
       "      <td>3.2 %</td>\n",
       "      <td>18.8 %</td>\n",
       "      <td>NaN</td>\n",
       "    </tr>\n",
       "    <tr>\n",
       "      <th>8</th>\n",
       "      <td>1988</td>\n",
       "      <td>39.5</td>\n",
       "      <td>11086</td>\n",
       "      <td>3.0 %</td>\n",
       "      <td>2.2 %</td>\n",
       "      <td>18.4 %</td>\n",
       "      <td>NaN</td>\n",
       "    </tr>\n",
       "    <tr>\n",
       "      <th>9</th>\n",
       "      <td>1989</td>\n",
       "      <td>43.3</td>\n",
       "      <td>12238</td>\n",
       "      <td>5.6 %</td>\n",
       "      <td>4.0 %</td>\n",
       "      <td>17.9 %</td>\n",
       "      <td>NaN</td>\n",
       "    </tr>\n",
       "    <tr>\n",
       "      <th>10</th>\n",
       "      <td>1990</td>\n",
       "      <td>48.3</td>\n",
       "      <td>13683</td>\n",
       "      <td>7.7 %</td>\n",
       "      <td>3.4 %</td>\n",
       "      <td>17.2 %</td>\n",
       "      <td>NaN</td>\n",
       "    </tr>\n",
       "    <tr>\n",
       "      <th>11</th>\n",
       "      <td>1991</td>\n",
       "      <td>50.8</td>\n",
       "      <td>14290</td>\n",
       "      <td>1.6 %</td>\n",
       "      <td>3.1 %</td>\n",
       "      <td>19.0 %</td>\n",
       "      <td>NaN</td>\n",
       "    </tr>\n",
       "    <tr>\n",
       "      <th>12</th>\n",
       "      <td>1992</td>\n",
       "      <td>53.8</td>\n",
       "      <td>15016</td>\n",
       "      <td>3.6 %</td>\n",
       "      <td>3.2 %</td>\n",
       "      <td>16.3 %</td>\n",
       "      <td>NaN</td>\n",
       "    </tr>\n",
       "    <tr>\n",
       "      <th>13</th>\n",
       "      <td>1993</td>\n",
       "      <td>56.3</td>\n",
       "      <td>15642</td>\n",
       "      <td>2.3 %</td>\n",
       "      <td>1.4 %</td>\n",
       "      <td>16.7 %</td>\n",
       "      <td>NaN</td>\n",
       "    </tr>\n",
       "    <tr>\n",
       "      <th>14</th>\n",
       "      <td>1994</td>\n",
       "      <td>60.9</td>\n",
       "      <td>16862</td>\n",
       "      <td>5.9 %</td>\n",
       "      <td>2.4 %</td>\n",
       "      <td>15.1 %</td>\n",
       "      <td>NaN</td>\n",
       "    </tr>\n",
       "    <tr>\n",
       "      <th>15</th>\n",
       "      <td>1995</td>\n",
       "      <td>68.2</td>\n",
       "      <td>18784</td>\n",
       "      <td>9.6 %</td>\n",
       "      <td>2.5 %</td>\n",
       "      <td>14.1 %</td>\n",
       "      <td>78.6 %</td>\n",
       "    </tr>\n",
       "    <tr>\n",
       "      <th>16</th>\n",
       "      <td>1996</td>\n",
       "      <td>75.7</td>\n",
       "      <td>20723</td>\n",
       "      <td>9.1 %</td>\n",
       "      <td>2.2 %</td>\n",
       "      <td>11.8 %</td>\n",
       "      <td>69.9 %</td>\n",
       "    </tr>\n",
       "    <tr>\n",
       "      <th>17</th>\n",
       "      <td>1997</td>\n",
       "      <td>85.3</td>\n",
       "      <td>23100</td>\n",
       "      <td>10.7 %</td>\n",
       "      <td>1.3 %</td>\n",
       "      <td>9.9 %</td>\n",
       "      <td>61.7 %</td>\n",
       "    </tr>\n",
       "    <tr>\n",
       "      <th>18</th>\n",
       "      <td>1998</td>\n",
       "      <td>93.5</td>\n",
       "      <td>25065</td>\n",
       "      <td>8.5 %</td>\n",
       "      <td>2.1 %</td>\n",
       "      <td>7.6 %</td>\n",
       "      <td>51.5 %</td>\n",
       "    </tr>\n",
       "    <tr>\n",
       "      <th>19</th>\n",
       "      <td>1999</td>\n",
       "      <td>105.1</td>\n",
       "      <td>27842</td>\n",
       "      <td>10.6 %</td>\n",
       "      <td>2.4 %</td>\n",
       "      <td>5.8 %</td>\n",
       "      <td>46.7 %</td>\n",
       "    </tr>\n",
       "    <tr>\n",
       "      <th>20</th>\n",
       "      <td>2000</td>\n",
       "      <td>117.8</td>\n",
       "      <td>30757</td>\n",
       "      <td>9.6 %</td>\n",
       "      <td>5.3 %</td>\n",
       "      <td>4.5 %</td>\n",
       "      <td>36.1 %</td>\n",
       "    </tr>\n",
       "    <tr>\n",
       "      <th>21</th>\n",
       "      <td>2001</td>\n",
       "      <td>127.5</td>\n",
       "      <td>32779</td>\n",
       "      <td>5.8 %</td>\n",
       "      <td>4.0 %</td>\n",
       "      <td>4.2 %</td>\n",
       "      <td>33.2 %</td>\n",
       "    </tr>\n",
       "    <tr>\n",
       "      <th>22</th>\n",
       "      <td>2002</td>\n",
       "      <td>137.6</td>\n",
       "      <td>34781</td>\n",
       "      <td>6.3 %</td>\n",
       "      <td>4.7 %</td>\n",
       "      <td>4.8 %</td>\n",
       "      <td>30.6 %</td>\n",
       "    </tr>\n",
       "    <tr>\n",
       "      <th>23</th>\n",
       "      <td>2003</td>\n",
       "      <td>144.8</td>\n",
       "      <td>35996</td>\n",
       "      <td>3.1 %</td>\n",
       "      <td>4.0 %</td>\n",
       "      <td>4.9 %</td>\n",
       "      <td>29.9 %</td>\n",
       "    </tr>\n",
       "    <tr>\n",
       "      <th>24</th>\n",
       "      <td>2004</td>\n",
       "      <td>158.8</td>\n",
       "      <td>38728</td>\n",
       "      <td>6.8 %</td>\n",
       "      <td>2.3 %</td>\n",
       "      <td>4.8 %</td>\n",
       "      <td>28.2 %</td>\n",
       "    </tr>\n",
       "    <tr>\n",
       "      <th>25</th>\n",
       "      <td>2005</td>\n",
       "      <td>173.8</td>\n",
       "      <td>41369</td>\n",
       "      <td>6.0 %</td>\n",
       "      <td>2.2 %</td>\n",
       "      <td>4.7 %</td>\n",
       "      <td>26.1 %</td>\n",
       "    </tr>\n",
       "    <tr>\n",
       "      <th>26</th>\n",
       "      <td>2006</td>\n",
       "      <td>189.0</td>\n",
       "      <td>43744</td>\n",
       "      <td>5.5 %</td>\n",
       "      <td>2.7 %</td>\n",
       "      <td>4.9 %</td>\n",
       "      <td>23.6 %</td>\n",
       "    </tr>\n",
       "    <tr>\n",
       "      <th>27</th>\n",
       "      <td>2007</td>\n",
       "      <td>204.0</td>\n",
       "      <td>45905</td>\n",
       "      <td>5.2 %</td>\n",
       "      <td>2.9 %</td>\n",
       "      <td>5.0 %</td>\n",
       "      <td>23.9 %</td>\n",
       "    </tr>\n",
       "    <tr>\n",
       "      <th>28</th>\n",
       "      <td>2008</td>\n",
       "      <td>199.9</td>\n",
       "      <td>44259</td>\n",
       "      <td>−3.9 %</td>\n",
       "      <td>3.1 %</td>\n",
       "      <td>6.8 %</td>\n",
       "      <td>42.4 %</td>\n",
       "    </tr>\n",
       "    <tr>\n",
       "      <th>29</th>\n",
       "      <td>2009</td>\n",
       "      <td>192.0</td>\n",
       "      <td>42221</td>\n",
       "      <td>−4.7 %</td>\n",
       "      <td>−1.7 %</td>\n",
       "      <td>12.7 %</td>\n",
       "      <td>61.5 %</td>\n",
       "    </tr>\n",
       "    <tr>\n",
       "      <th>30</th>\n",
       "      <td>2010</td>\n",
       "      <td>197.8</td>\n",
       "      <td>43291</td>\n",
       "      <td>1.8 %</td>\n",
       "      <td>−1.6 %</td>\n",
       "      <td>14.6 %</td>\n",
       "      <td>86.1 %</td>\n",
       "    </tr>\n",
       "    <tr>\n",
       "      <th>31</th>\n",
       "      <td>2011</td>\n",
       "      <td>207.8</td>\n",
       "      <td>45359</td>\n",
       "      <td>2.9 %</td>\n",
       "      <td>1.2 %</td>\n",
       "      <td>15.4 %</td>\n",
       "      <td>110.4 %</td>\n",
       "    </tr>\n",
       "    <tr>\n",
       "      <th>32</th>\n",
       "      <td>2012</td>\n",
       "      <td>211.7</td>\n",
       "      <td>46058</td>\n",
       "      <td>0.0 %</td>\n",
       "      <td>1.9 %</td>\n",
       "      <td>15.5 %</td>\n",
       "      <td>119.7 %</td>\n",
       "    </tr>\n",
       "    <tr>\n",
       "      <th>33</th>\n",
       "      <td>2013</td>\n",
       "      <td>218.6</td>\n",
       "      <td>47422</td>\n",
       "      <td>1.6 %</td>\n",
       "      <td>0.6 %</td>\n",
       "      <td>13.8 %</td>\n",
       "      <td>119.6 %</td>\n",
       "    </tr>\n",
       "    <tr>\n",
       "      <th>34</th>\n",
       "      <td>2014</td>\n",
       "      <td>241.0</td>\n",
       "      <td>52133</td>\n",
       "      <td>8.3 %</td>\n",
       "      <td>0.3 %</td>\n",
       "      <td>11.9 %</td>\n",
       "      <td>104.7 %</td>\n",
       "    </tr>\n",
       "    <tr>\n",
       "      <th>35</th>\n",
       "      <td>2015</td>\n",
       "      <td>305.7</td>\n",
       "      <td>65656</td>\n",
       "      <td>25.5 %</td>\n",
       "      <td>−0.1 %</td>\n",
       "      <td>10.0 %</td>\n",
       "      <td>77.1 %</td>\n",
       "    </tr>\n",
       "    <tr>\n",
       "      <th>36</th>\n",
       "      <td>2016</td>\n",
       "      <td>325.4</td>\n",
       "      <td>69248</td>\n",
       "      <td>5.1 %</td>\n",
       "      <td>−0.2 %</td>\n",
       "      <td>8.4 %</td>\n",
       "      <td>72.9 %</td>\n",
       "    </tr>\n",
       "    <tr>\n",
       "      <th>37</th>\n",
       "      <td>2017</td>\n",
       "      <td>357.2</td>\n",
       "      <td>75538</td>\n",
       "      <td>7.8 %</td>\n",
       "      <td>0.3 %</td>\n",
       "      <td>6.7 %</td>\n",
       "      <td>68.5 %</td>\n",
       "    </tr>\n",
       "  </tbody>\n",
       "</table>\n",
       "</div>"
      ],
      "text/plain": [
       "    Year  GDP(in Bil. US$ PPP)  GDP per capita(in US$ PPP) GDP growth(real)  \\\n",
       "0   1980                  24.2                        7074            2.9 %   \n",
       "1   1981                  27.2                        7831            2.5 %   \n",
       "2   1982                  29.3                        8352            1.5 %   \n",
       "3   1983                  30.2                        8559           −0.7 %   \n",
       "4   1984                  32.3                        9082            3.2 %   \n",
       "5   1985                  34.0                        9526            1.9 %   \n",
       "6   1986                  34.8                        9757           −0.4 %   \n",
       "7   1987                  37.0                       10353            3.6 %   \n",
       "8   1988                  39.5                       11086            3.0 %   \n",
       "9   1989                  43.3                       12238            5.6 %   \n",
       "10  1990                  48.3                       13683            7.7 %   \n",
       "11  1991                  50.8                       14290            1.6 %   \n",
       "12  1992                  53.8                       15016            3.6 %   \n",
       "13  1993                  56.3                       15642            2.3 %   \n",
       "14  1994                  60.9                       16862            5.9 %   \n",
       "15  1995                  68.2                       18784            9.6 %   \n",
       "16  1996                  75.7                       20723            9.1 %   \n",
       "17  1997                  85.3                       23100           10.7 %   \n",
       "18  1998                  93.5                       25065            8.5 %   \n",
       "19  1999                 105.1                       27842           10.6 %   \n",
       "20  2000                 117.8                       30757            9.6 %   \n",
       "21  2001                 127.5                       32779            5.8 %   \n",
       "22  2002                 137.6                       34781            6.3 %   \n",
       "23  2003                 144.8                       35996            3.1 %   \n",
       "24  2004                 158.8                       38728            6.8 %   \n",
       "25  2005                 173.8                       41369            6.0 %   \n",
       "26  2006                 189.0                       43744            5.5 %   \n",
       "27  2007                 204.0                       45905            5.2 %   \n",
       "28  2008                 199.9                       44259           −3.9 %   \n",
       "29  2009                 192.0                       42221           −4.7 %   \n",
       "30  2010                 197.8                       43291            1.8 %   \n",
       "31  2011                 207.8                       45359            2.9 %   \n",
       "32  2012                 211.7                       46058            0.0 %   \n",
       "33  2013                 218.6                       47422            1.6 %   \n",
       "34  2014                 241.0                       52133            8.3 %   \n",
       "35  2015                 305.7                       65656           25.5 %   \n",
       "36  2016                 325.4                       69248            5.1 %   \n",
       "37  2017                 357.2                       75538            7.8 %   \n",
       "\n",
       "   Inflation rate(in Percent) Unemployment (in Percent)  \\\n",
       "0                      18.3 %                       NaN   \n",
       "1                      20.2 %                       NaN   \n",
       "2                      17.2 %                       NaN   \n",
       "3                      10.4 %                       NaN   \n",
       "4                       8.6 %                       NaN   \n",
       "5                       5.5 %                    17.7 %   \n",
       "6                       3.0 %                    18.1 %   \n",
       "7                       3.2 %                    18.8 %   \n",
       "8                       2.2 %                    18.4 %   \n",
       "9                       4.0 %                    17.9 %   \n",
       "10                      3.4 %                    17.2 %   \n",
       "11                      3.1 %                    19.0 %   \n",
       "12                      3.2 %                    16.3 %   \n",
       "13                      1.4 %                    16.7 %   \n",
       "14                      2.4 %                    15.1 %   \n",
       "15                      2.5 %                    14.1 %   \n",
       "16                      2.2 %                    11.8 %   \n",
       "17                      1.3 %                     9.9 %   \n",
       "18                      2.1 %                     7.6 %   \n",
       "19                      2.4 %                     5.8 %   \n",
       "20                      5.3 %                     4.5 %   \n",
       "21                      4.0 %                     4.2 %   \n",
       "22                      4.7 %                     4.8 %   \n",
       "23                      4.0 %                     4.9 %   \n",
       "24                      2.3 %                     4.8 %   \n",
       "25                      2.2 %                     4.7 %   \n",
       "26                      2.7 %                     4.9 %   \n",
       "27                      2.9 %                     5.0 %   \n",
       "28                      3.1 %                     6.8 %   \n",
       "29                     −1.7 %                    12.7 %   \n",
       "30                     −1.6 %                    14.6 %   \n",
       "31                      1.2 %                    15.4 %   \n",
       "32                      1.9 %                    15.5 %   \n",
       "33                      0.6 %                    13.8 %   \n",
       "34                      0.3 %                    11.9 %   \n",
       "35                     −0.1 %                    10.0 %   \n",
       "36                     −0.2 %                     8.4 %   \n",
       "37                      0.3 %                     6.7 %   \n",
       "\n",
       "   Government debt(in % of GDP)  \n",
       "0                           NaN  \n",
       "1                           NaN  \n",
       "2                           NaN  \n",
       "3                           NaN  \n",
       "4                           NaN  \n",
       "5                           NaN  \n",
       "6                           NaN  \n",
       "7                           NaN  \n",
       "8                           NaN  \n",
       "9                           NaN  \n",
       "10                          NaN  \n",
       "11                          NaN  \n",
       "12                          NaN  \n",
       "13                          NaN  \n",
       "14                          NaN  \n",
       "15                       78.6 %  \n",
       "16                       69.9 %  \n",
       "17                       61.7 %  \n",
       "18                       51.5 %  \n",
       "19                       46.7 %  \n",
       "20                       36.1 %  \n",
       "21                       33.2 %  \n",
       "22                       30.6 %  \n",
       "23                       29.9 %  \n",
       "24                       28.2 %  \n",
       "25                       26.1 %  \n",
       "26                       23.6 %  \n",
       "27                       23.9 %  \n",
       "28                       42.4 %  \n",
       "29                       61.5 %  \n",
       "30                       86.1 %  \n",
       "31                      110.4 %  \n",
       "32                      119.7 %  \n",
       "33                      119.6 %  \n",
       "34                      104.7 %  \n",
       "35                       77.1 %  \n",
       "36                       72.9 %  \n",
       "37                       68.5 %  "
      ]
     },
     "execution_count": 44,
     "metadata": {},
     "output_type": "execute_result"
    }
   ],
   "source": [
    "economic_df\n"
   ]
  },
  {
   "cell_type": "code",
   "execution_count": 45,
   "id": "7a618be5",
   "metadata": {},
   "outputs": [],
   "source": [
    "economic_df['Unemployment (in Percent)'] = economic_df['Unemployment (in Percent)'].fillna(method = 'bfill')"
   ]
  },
  {
   "cell_type": "code",
   "execution_count": 46,
   "id": "c0fb155a",
   "metadata": {},
   "outputs": [
    {
     "data": {
      "text/plain": [
       "Index(['Year', 'GDP(in Bil. US$ PPP)', 'GDP per capita(in US$ PPP)',\n",
       "       'GDP growth(real)', 'Inflation rate(in Percent)',\n",
       "       'Unemployment (in Percent)', 'Government debt(in % of GDP)'],\n",
       "      dtype='object')"
      ]
     },
     "execution_count": 46,
     "metadata": {},
     "output_type": "execute_result"
    }
   ],
   "source": [
    "economic_df.columns"
   ]
  },
  {
   "cell_type": "code",
   "execution_count": 47,
   "id": "3bbacfde",
   "metadata": {},
   "outputs": [
    {
     "data": {
      "text/plain": [
       "0           0\n",
       "1           0\n",
       "2           0\n",
       "3           0\n",
       "4           0\n",
       "5           0\n",
       "6           0\n",
       "7           0\n",
       "8           0\n",
       "9           0\n",
       "10          0\n",
       "11          0\n",
       "12          0\n",
       "13          0\n",
       "14          0\n",
       "15     78.6 %\n",
       "16     69.9 %\n",
       "17     61.7 %\n",
       "18     51.5 %\n",
       "19     46.7 %\n",
       "20     36.1 %\n",
       "21     33.2 %\n",
       "22     30.6 %\n",
       "23     29.9 %\n",
       "24     28.2 %\n",
       "25     26.1 %\n",
       "26     23.6 %\n",
       "27     23.9 %\n",
       "28     42.4 %\n",
       "29     61.5 %\n",
       "30     86.1 %\n",
       "31    110.4 %\n",
       "32    119.7 %\n",
       "33    119.6 %\n",
       "34    104.7 %\n",
       "35     77.1 %\n",
       "36     72.9 %\n",
       "37     68.5 %\n",
       "Name: Government debt(in % of GDP), dtype: object"
      ]
     },
     "execution_count": 47,
     "metadata": {},
     "output_type": "execute_result"
    }
   ],
   "source": [
    "economic_df.iloc[:,-1].fillna(0)"
   ]
  },
  {
   "cell_type": "code",
   "execution_count": null,
   "id": "78955467",
   "metadata": {},
   "outputs": [],
   "source": []
  },
  {
   "cell_type": "markdown",
   "id": "43329919",
   "metadata": {},
   "source": [
    "### Join population and mortality df"
   ]
  },
  {
   "cell_type": "code",
   "execution_count": 48,
   "id": "bf4ecd17",
   "metadata": {},
   "outputs": [],
   "source": [
    "new_mort_df = pd.merge(mort_df_r,irl_pop_80_17_m, how = 'left', left_on =['Year', 'Age Group', 'Sex'], right_on = ['Year', 'Age Group', 'Sex'], suffixes = ('_mort', '_pop'))"
   ]
  },
  {
   "cell_type": "code",
   "execution_count": 49,
   "id": "52b67278",
   "metadata": {},
   "outputs": [
    {
     "data": {
      "text/plain": [
       "(171114, 8)"
      ]
     },
     "execution_count": 49,
     "metadata": {},
     "output_type": "execute_result"
    }
   ],
   "source": [
    "new_mort_df.shape\n"
   ]
  },
  {
   "cell_type": "code",
   "execution_count": 50,
   "id": "6f73ed53",
   "metadata": {},
   "outputs": [
    {
     "name": "stdout",
     "output_type": "stream",
     "text": [
      "<class 'pandas.core.frame.DataFrame'>\n",
      "Int64Index: 171114 entries, 0 to 171113\n",
      "Data columns (total 8 columns):\n",
      " #   Column          Non-Null Count   Dtype  \n",
      "---  ------          --------------   -----  \n",
      " 0   Statistic       171114 non-null  object \n",
      " 1   Year            171114 non-null  int64  \n",
      " 2   Age Group       171114 non-null  object \n",
      " 3   Sex             171114 non-null  object \n",
      " 4   Cause of Death  171114 non-null  object \n",
      " 5   UNIT            171114 non-null  object \n",
      " 6   VALUE           171114 non-null  float64\n",
      " 7   Population      171114 non-null  object \n",
      "dtypes: float64(1), int64(1), object(6)\n",
      "memory usage: 11.7+ MB\n"
     ]
    }
   ],
   "source": [
    "new_mort_df.head(10)\n",
    "new_mort_df.info()"
   ]
  },
  {
   "cell_type": "code",
   "execution_count": 51,
   "id": "9c0e9f3c",
   "metadata": {},
   "outputs": [],
   "source": [
    "new_mort_df['Death_Percent'] = (new_mort_df['VALUE']/new_mort_df['Population']) * 100\n",
    "new_mort_df_Summary = new_mort_df[(new_mort_df['Age Group'] == 'All ages') & (new_mort_df['Sex'] == 'Both sexes') & (new_mort_df['Cause of Death'] == 'All causes of death')]\n"
   ]
  },
  {
   "cell_type": "code",
   "execution_count": 52,
   "id": "0a1e1d53",
   "metadata": {
    "scrolled": true
   },
   "outputs": [
    {
     "data": {
      "text/plain": [
       "<AxesSubplot:title={'center':'Total Deaths Per Annum'}, xlabel=' Year', ylabel='Total Deaths'>"
      ]
     },
     "execution_count": 52,
     "metadata": {},
     "output_type": "execute_result"
    },
    {
     "data": {
      "image/png": "[encoded data removed]",
      "text/plain": [
       "<Figure size 720x432 with 1 Axes>"
      ]
     },
     "metadata": {
      "needs_background": "light"
     },
     "output_type": "display_data"
    }
   ],
   "source": [
    "new_mort_df_Summary_group = new_mort_df_Summary.groupby('Year')['VALUE'].sum()\n",
    "new_mort_df_Summary_group.plot(kind = 'bar', title = 'Total Deaths Per Annum', ylabel = 'Total Deaths', xlabel = ' Year', figsize = (10,6), color =(0.2, 0.1, 0.1, 0.1),  edgecolor='red', fontsize = 13)\n",
    "                       "
   ]
  },
  {
   "cell_type": "code",
   "execution_count": null,
   "id": "3fda33e5",
   "metadata": {},
   "outputs": [],
   "source": []
  },
  {
   "cell_type": "code",
   "execution_count": 53,
   "id": "12845120",
   "metadata": {},
   "outputs": [
    {
     "data": {
      "text/html": [
       "<div>\n",
       "<style scoped>\n",
       "    .dataframe tbody tr th:only-of-type {\n",
       "        vertical-align: middle;\n",
       "    }\n",
       "\n",
       "    .dataframe tbody tr th {\n",
       "        vertical-align: top;\n",
       "    }\n",
       "\n",
       "    .dataframe thead th {\n",
       "        text-align: right;\n",
       "    }\n",
       "</style>\n",
       "<table border=\"1\" class=\"dataframe\">\n",
       "  <thead>\n",
       "    <tr style=\"text-align: right;\">\n",
       "      <th></th>\n",
       "      <th>Year</th>\n",
       "      <th>VALUE</th>\n",
       "    </tr>\n",
       "  </thead>\n",
       "  <tbody>\n",
       "    <tr>\n",
       "      <th>0</th>\n",
       "      <td>1980</td>\n",
       "      <td>33472.0</td>\n",
       "    </tr>\n",
       "    <tr>\n",
       "      <th>1</th>\n",
       "      <td>1981</td>\n",
       "      <td>32929.0</td>\n",
       "    </tr>\n",
       "    <tr>\n",
       "      <th>2</th>\n",
       "      <td>1982</td>\n",
       "      <td>32457.0</td>\n",
       "    </tr>\n",
       "    <tr>\n",
       "      <th>3</th>\n",
       "      <td>1983</td>\n",
       "      <td>32976.0</td>\n",
       "    </tr>\n",
       "    <tr>\n",
       "      <th>4</th>\n",
       "      <td>1984</td>\n",
       "      <td>32076.0</td>\n",
       "    </tr>\n",
       "  </tbody>\n",
       "</table>\n",
       "</div>"
      ],
      "text/plain": [
       "   Year    VALUE\n",
       "0  1980  33472.0\n",
       "1  1981  32929.0\n",
       "2  1982  32457.0\n",
       "3  1983  32976.0\n",
       "4  1984  32076.0"
      ]
     },
     "execution_count": 53,
     "metadata": {},
     "output_type": "execute_result"
    }
   ],
   "source": [
    "new_mort_df_Summary_group = pd.DataFrame(new_mort_df_Summary_group).reset_index()\n",
    "new_mort_df_Summary_group.rename(columns={'Year': 'Year', '0': 'VALUE'}, inplace=True)\n",
    "new_mort_df_Summary_group.head()\n"
   ]
  },
  {
   "cell_type": "code",
   "execution_count": 54,
   "id": "d308b31b",
   "metadata": {},
   "outputs": [],
   "source": [
    "joint_year_DR = pd.concat([new_mort_df_Summary_group, pop_18to20_group], join = 'inner').reset_index(drop = True)\n"
   ]
  },
  {
   "cell_type": "code",
   "execution_count": 55,
   "id": "80859fb6",
   "metadata": {},
   "outputs": [
    {
     "name": "stdout",
     "output_type": "stream",
     "text": [
      "<class 'pandas.core.frame.DataFrame'>\n",
      "RangeIndex: 41 entries, 0 to 40\n",
      "Data columns (total 2 columns):\n",
      " #   Column  Non-Null Count  Dtype  \n",
      "---  ------  --------------  -----  \n",
      " 0   Year    41 non-null     int64  \n",
      " 1   VALUE   41 non-null     float64\n",
      "dtypes: float64(1), int64(1)\n",
      "memory usage: 784.0 bytes\n"
     ]
    }
   ],
   "source": [
    "joint_year_DR.info()"
   ]
  },
  {
   "cell_type": "code",
   "execution_count": 56,
   "id": "ec1dfee0",
   "metadata": {},
   "outputs": [
    {
     "name": "stdout",
     "output_type": "stream",
     "text": [
      "    Year    VALUE\n",
      "0   1980  33472.0\n",
      "1   1981  32929.0\n",
      "2   1982  32457.0\n",
      "3   1983  32976.0\n",
      "4   1984  32076.0\n",
      "5   1985  33213.0\n",
      "6   1986  33626.0\n",
      "7   1987  31413.0\n",
      "8   1988  31580.0\n",
      "9   1989  32111.0\n",
      "10  1990  31370.0\n",
      "11  1991  31305.0\n",
      "12  1992  30931.0\n",
      "13  1993  32148.0\n",
      "14  1994  30948.0\n",
      "15  1995  32259.0\n",
      "16  1996  31723.0\n",
      "17  1997  31581.0\n",
      "18  1998  31563.0\n",
      "19  1999  32608.0\n",
      "20  2000  31391.0\n",
      "21  2001  30212.0\n",
      "22  2002  29683.0\n",
      "23  2003  29074.0\n",
      "24  2004  28665.0\n",
      "25  2005  28260.0\n",
      "26  2006  28488.0\n",
      "27  2007  28117.0\n",
      "28  2008  28274.0\n",
      "29  2009  28380.0\n",
      "30  2010  27961.0\n",
      "31  2011  28456.0\n",
      "32  2012  29186.0\n",
      "33  2013  29504.0\n",
      "34  2014  29252.0\n",
      "35  2015  30127.0\n",
      "36  2016  30667.0\n",
      "37  2017  30484.0\n",
      "38  2018  31858.0\n",
      "39  2019  31342.0\n",
      "40  2020  31979.0\n"
     ]
    }
   ],
   "source": [
    "print(joint_year_DR)"
   ]
  },
  {
   "cell_type": "markdown",
   "id": "0d7bc6c0",
   "metadata": {},
   "source": [
    "### Review population Data"
   ]
  },
  {
   "cell_type": "code",
   "execution_count": 57,
   "id": "e1f72c08",
   "metadata": {},
   "outputs": [
    {
     "data": {
      "image/png": "[encoded data removed]",
      "text/plain": [
       "<Figure size 864x576 with 1 Axes>"
      ]
     },
     "metadata": {
      "needs_background": "light"
     },
     "output_type": "display_data"
    }
   ],
   "source": [
    "joint_year_DR.plot('Year','VALUE', kind = 'bar', figsize = (12,8), title = 'Deaths by Year plotted with grouped quarterly deaths', ylabel = 'No. of Deaths',color =(0.2, 0.1, 0.1, 0.1),  edgecolor='red', legend = True )\n",
    "pop_80to20_group['VALUE'].plot(kind='line', marker='d', secondary_y=False, legend = True)\n",
    "plt.xticks(rotation=60, ha='center')\n",
    "plt.show()\n"
   ]
  },
  {
   "cell_type": "code",
   "execution_count": 58,
   "id": "730d5cb4",
   "metadata": {},
   "outputs": [
    {
     "data": {
      "image/png": "[encoded data removed]",
      "text/plain": [
       "<Figure size 720x432 with 2 Axes>"
      ]
     },
     "metadata": {
      "needs_background": "light"
     },
     "output_type": "display_data"
    }
   ],
   "source": [
    "pop_qtr_80to17 = pop_80to20_group[(pop_80to20_group['Year'] >= 1980) & (pop_80to20_group['Year'] <= 2017)]\n",
    "new_mort_df_Summary_group = new_mort_df_Summary.groupby('Year')['Population'].sum()\n",
    "new_mort_df_Summary_group.plot(kind = 'bar', title = 'Population by Year plotted aginst death count', ylabel = 'Population',color =(0.2, 0.1, 0.1, 0.1),  edgecolor='Green', xlabel = ' Year', figsize = (10,6))\n",
    "plt.xticks(rotation=60, ha='center', size = 6)\n",
    "pop_qtr_80to17['VALUE'].plot(kind='line', marker='v', secondary_y=True, legend = False)\n",
    "\n",
    "plt.legend(loc=4, prop={'size': 8}, title='Death Count', labels=['Death Count'])\n",
    "plt.xticks(rotation=70, ha='right', size = 1)\n",
    "\n",
    "plt.show()\n"
   ]
  },
  {
   "cell_type": "code",
   "execution_count": null,
   "id": "976cd139",
   "metadata": {},
   "outputs": [],
   "source": [
    "\n"
   ]
  },
  {
   "cell_type": "code",
   "execution_count": null,
   "id": "cf1ea399",
   "metadata": {},
   "outputs": [],
   "source": []
  },
  {
   "cell_type": "markdown",
   "id": "d18dbd77",
   "metadata": {},
   "source": [
    "### Function to create a list of returns on a keyword search"
   ]
  },
  {
   "cell_type": "code",
   "execution_count": 59,
   "id": "24fa9f94",
   "metadata": {},
   "outputs": [],
   "source": [
    "\n",
    "def keyword_search (search_word):\n",
    "    list_of_key = []   \n",
    "    search = search_word\n",
    "    wild = '(?!$)' + search + '(?!$)'\n",
    "    key = new_mort_df['Cause of Death'].str.lower()[new_mort_df['Cause of Death'].str.lower().str.contains(wild)].unique()\n",
    "    list_of_key.append(key)\n",
    "    list_of_key = np.array(list_of_key).flatten()\n",
    "    print (list_of_key)\n",
    "    \n",
    "    return (list_of_key)"
   ]
  },
  {
   "cell_type": "code",
   "execution_count": 60,
   "id": "2ad00cbf",
   "metadata": {},
   "outputs": [
    {
     "name": "stdout",
     "output_type": "stream",
     "text": [
      "['meningococcal infection' 'meningitis']\n"
     ]
    }
   ],
   "source": [
    "my_query = keyword_search('meni')"
   ]
  },
  {
   "cell_type": "markdown",
   "id": "53904728",
   "metadata": {},
   "source": [
    "### Function to return a subset of date based on \n",
    "1. query = cause of death\n",
    "2. age_group of subset\n",
    "3. sex = male/female or other"
   ]
  },
  {
   "cell_type": "code",
   "execution_count": 61,
   "id": "ba3ef0da",
   "metadata": {},
   "outputs": [],
   "source": [
    "def categorised_data (query, age_group, sex):\n",
    "    indexset = new_mort_df.reset_index(drop = True).set_index('Age Group')\n",
    "    sorted_mort_df_age = indexset.loc[age_group].reset_index(drop = False)\n",
    "    indexset2 = sorted_mort_df_age.reset_index(drop = True).set_index('Sex')\n",
    "    sorted_mort_df_sex = indexset2.loc[sex].reset_index(drop = False)\n",
    "    sorted_mort_df_sex['Cause of Death'] = sorted_mort_df_sex['Cause of Death'].str.lower()    \n",
    "    sorted_mort_df4 = sorted_mort_df_sex.reset_index(drop = True).set_index('Cause of Death')\n",
    "    new_sorted_mort_df = sorted_mort_df4.loc[query].reset_index(drop = False)\n",
    "    return new_sorted_mort_df"
   ]
  },
  {
   "cell_type": "markdown",
   "id": "6e678d5b",
   "metadata": {},
   "source": [
    "### Analyse Meningitis related deaths"
   ]
  },
  {
   "cell_type": "code",
   "execution_count": 62,
   "id": "385e2824",
   "metadata": {},
   "outputs": [],
   "source": [
    "meningitis_df  = categorised_data(my_query,'All ages','Both sexes')"
   ]
  },
  {
   "cell_type": "code",
   "execution_count": 63,
   "id": "319132e5",
   "metadata": {},
   "outputs": [
    {
     "data": {
      "text/plain": [
       "<AxesSubplot:title={'center':'Total Deaths Per Annum due to Meningitis related'}, xlabel=' Year', ylabel='Total Deaths'>"
      ]
     },
     "execution_count": 63,
     "metadata": {},
     "output_type": "execute_result"
    },
    {
     "data": {
      "image/png": "[encoded data removed]",
      "text/plain": [
       "<Figure size 864x576 with 1 Axes>"
      ]
     },
     "metadata": {
      "needs_background": "light"
     },
     "output_type": "display_data"
    }
   ],
   "source": [
    "meningitis_df_summary = meningitis_df.groupby('Year')['VALUE'].sum()\n",
    "meningitis_df_summary.plot(kind = 'bar', title = 'Total Deaths Per Annum due to Meningitis related', ylabel = 'Total Deaths', xlabel = ' Year', figsize = (12,8), color =(0.2, 0.1, 0.1, 0.1),  edgecolor='red', fontsize = 13)"
   ]
  },
  {
   "cell_type": "markdown",
   "id": "ce9d46a7",
   "metadata": {},
   "source": [
    "### Age of death from Meningitis"
   ]
  },
  {
   "cell_type": "code",
   "execution_count": 64,
   "id": "60738a39",
   "metadata": {},
   "outputs": [
    {
     "data": {
      "text/plain": [
       "<function matplotlib.pyplot.show(close=None, block=None)>"
      ]
     },
     "execution_count": 64,
     "metadata": {},
     "output_type": "execute_result"
    },
    {
     "data": {
      "image/png": "[encoded data removed]",
      "text/plain": [
       "<Figure size 720x432 with 1 Axes>"
      ]
     },
     "metadata": {
      "needs_background": "light"
     },
     "output_type": "display_data"
    }
   ],
   "source": [
    "mort_df_mf = new_mort_df.reset_index(drop = True).set_index('Sex').loc[['Female', 'Male']].reset_index(drop = False).copy()\n",
    "mort_df_mf_meni = mort_df_mf.reset_index(drop = True).set_index('Cause of Death').loc[['Meningococcal infection','Meningitis']].reset_index(drop = False).copy()\n",
    "mort_df_meni_mf = mort_df_mf_meni.reset_index(drop = True)#.set_index('Age Group').loc[['All ages']].reset_index(drop = False)#.set_index('Age Group').drop('All ages')\n",
    "#a = mort_df_meni_mf.set_index(['Sex','Age Group', 'Cause of Death', 'Statistic', 'Year', 'UNIT', 'Population', 'Death_Percent'], append = True).unstack('Sex')\n",
    "#a.reset_index(drop = False)\n",
    "#a.fillna(0)\n",
    "mort_df_meni_mf = pd.DataFrame(mort_df_meni_mf)\n",
    "#a.columns = a.iloc[1] \n",
    "mort_df_meni_mf_agg = mort_df_meni_mf.groupby(['Year','Sex'])['VALUE'].sum().unstack().fillna(0)\n",
    "b = mort_df_meni_mf_agg.plot(kind = 'bar', stacked = True, title = 'Meningitis by Year and Age', ylabel = 'Total',figsize = (10,6), fontsize = 13)\n",
    "plt.xticks(rotation=60, ha='center')\n",
    "plt.show\n"
   ]
  },
  {
   "cell_type": "code",
   "execution_count": 65,
   "id": "2d94c6af",
   "metadata": {},
   "outputs": [
    {
     "data": {
      "image/png": "[encoded data removed]",
      "text/plain": [
       "<Figure size 720x432 with 1 Axes>"
      ]
     },
     "metadata": {
      "needs_background": "light"
     },
     "output_type": "display_data"
    }
   ],
   "source": [
    "mort_df_meni_mf_line = meningitis_df.groupby(['Year'])['Death_Percent'].sum()\n",
    "mort_df_meni_mf_line.plot(kind = 'line', x='Year', linestyle='-', marker='o', title = 'Meningitis Death Rate by Year as % of Population',ylabel = 'Percentage',figsize = (10,6), fontsize = 13 )\n",
    "plt.show()"
   ]
  },
  {
   "cell_type": "code",
   "execution_count": 66,
   "id": "5b6ab566",
   "metadata": {},
   "outputs": [
    {
     "data": {
      "text/plain": [
       "<function matplotlib.pyplot.show(close=None, block=None)>"
      ]
     },
     "execution_count": 66,
     "metadata": {},
     "output_type": "execute_result"
    },
    {
     "data": {
      "image/png": "[encoded data removed]",
      "text/plain": [
       "<Figure size 864x504 with 1 Axes>"
      ]
     },
     "metadata": {
      "needs_background": "light"
     },
     "output_type": "display_data"
    }
   ],
   "source": [
    "mort_df_meni_mf_allage = mort_df_mf_meni.reset_index(drop = True).set_index('Age Group').drop('All ages')\n",
    "mort_df_meni_mf_agg_allage = mort_df_meni_mf_allage.groupby(['Year','Age Group'])['VALUE'].sum().unstack().fillna(0)\n",
    "mort_df_meni_mf_agg_allage.plot(kind = 'bar', stacked = True, title = 'Meningitis by Year and Age', ylabel = 'Total',figsize = (12,7), fontsize = 13)\n",
    "plt.xticks(rotation=60, ha='center')\n",
    "plt.legend(loc=0, prop={'size': 8})\n",
    "plt.show"
   ]
  },
  {
   "cell_type": "code",
   "execution_count": 67,
   "id": "01687532",
   "metadata": {},
   "outputs": [
    {
     "name": "stdout",
     "output_type": "stream",
     "text": [
      "['viral hepatitis']\n"
     ]
    }
   ],
   "source": [
    "my_query2 = keyword_search('hepatit')"
   ]
  },
  {
   "cell_type": "code",
   "execution_count": 68,
   "id": "e85b033d",
   "metadata": {},
   "outputs": [],
   "source": [
    "viral_hepatitis_df  = categorised_data(my_query2,'All ages', 'Both sexes')"
   ]
  },
  {
   "cell_type": "code",
   "execution_count": 69,
   "id": "77f8f617",
   "metadata": {},
   "outputs": [
    {
     "data": {
      "text/plain": [
       "<AxesSubplot:title={'center':'Total Deaths Per Annum due to Viral hepatitis related'}, xlabel=' Year', ylabel='Total Deaths'>"
      ]
     },
     "execution_count": 69,
     "metadata": {},
     "output_type": "execute_result"
    },
    {
     "data": {
      "image/png": "[encoded data removed]",
      "text/plain": [
       "<Figure size 720x432 with 1 Axes>"
      ]
     },
     "metadata": {
      "needs_background": "light"
     },
     "output_type": "display_data"
    }
   ],
   "source": [
    "viral_hepatitis_df_summary = viral_hepatitis_df.groupby('Year')['VALUE'].sum()\n",
    "viral_hepatitis_df_summary.plot(kind = 'bar', title = 'Total Deaths Per Annum due to Viral hepatitis related', ylabel = 'Total Deaths', xlabel = ' Year', figsize = (10,6), color =(0.2, 0.1, 0.1, 0.1),  edgecolor='red', fontsize = 13)"
   ]
  },
  {
   "cell_type": "markdown",
   "id": "4f8ca46e",
   "metadata": {},
   "source": [
    "### Analyse Suicide data"
   ]
  },
  {
   "cell_type": "code",
   "execution_count": 70,
   "id": "24e4a0ac",
   "metadata": {},
   "outputs": [
    {
     "name": "stdout",
     "output_type": "stream",
     "text": [
      "['suicide and intentional self harm']\n"
     ]
    }
   ],
   "source": [
    "my_query3 = keyword_search('self')\n",
    "suicide_df  = categorised_data(my_query3,'All ages', 'Both sexes')"
   ]
  },
  {
   "cell_type": "code",
   "execution_count": 71,
   "id": "73d507c4",
   "metadata": {},
   "outputs": [
    {
     "data": {
      "text/plain": [
       "<AxesSubplot:title={'center':'Total Deaths Per Annum due Suicide related'}, xlabel=' Year', ylabel='Total Deaths'>"
      ]
     },
     "execution_count": 71,
     "metadata": {},
     "output_type": "execute_result"
    },
    {
     "data": {
      "image/png": "[encoded data removed]",
      "text/plain": [
       "<Figure size 864x576 with 1 Axes>"
      ]
     },
     "metadata": {
      "needs_background": "light"
     },
     "output_type": "display_data"
    }
   ],
   "source": [
    "suicide_df_summary = suicide_df.groupby('Year')['VALUE'].sum()\n",
    "suicide_df_summary = pd.DataFrame(suicide_df_summary).reset_index()\n",
    "suicide_df_summary.rename(columns={'Year': 'Year', '0': 'VALUE'}, inplace=True)\n",
    "suicide_df_summary.plot(kind = 'bar', y= 'VALUE', x = 'Year', title = 'Total Deaths Per Annum due Suicide related', ylabel = 'Total Deaths', xlabel = ' Year', figsize = (12,8), color =(0.2, 0.1, 0.1, 0.1),  edgecolor='g', fontsize = 13)\n"
   ]
  },
  {
   "cell_type": "code",
   "execution_count": 72,
   "id": "fe46f47a",
   "metadata": {},
   "outputs": [],
   "source": [
    "# looking at relationships between suicide numbers and unemployment"
   ]
  },
  {
   "cell_type": "code",
   "execution_count": 73,
   "id": "a4d53566",
   "metadata": {},
   "outputs": [],
   "source": [
    "suicide_df_summary_econ = pd.merge(suicide_df_summary,economic_df, on = 'Year', how = 'left',  suffixes = ('_suic', '_econ'))\n",
    "sorted_suicide_summary_unemploy = suicide_df_summary_econ.sort_values(['Unemployment (in Percent)']) \n",
    "sorted_suicide_summary_unemploy['Unemployment (in Percent)'] = sorted_suicide_summary_unemploy['Unemployment (in Percent)'].str.rstrip('%').astype('float') \n",
    "sorted_suicide_summary_unemploy = sorted_suicide_summary_unemploy.sort_values(['Unemployment (in Percent)'])\n",
    "\n"
   ]
  },
  {
   "cell_type": "code",
   "execution_count": 74,
   "id": "d48bd150",
   "metadata": {},
   "outputs": [
    {
     "data": {
      "image/png": "[encoded data removed]",
      "text/plain": [
       "<Figure size 432x288 with 1 Axes>"
      ]
     },
     "metadata": {
      "needs_background": "light"
     },
     "output_type": "display_data"
    }
   ],
   "source": [
    "sns.scatterplot(data = sorted_suicide_summary_unemploy ,  x = \"Unemployment (in Percent)\", y = \"VALUE\",hue = \"GDP(in Bil. US$ PPP)\", size = \"GDP(in Bil. US$ PPP)\", sizes = (50, 300), edgecolor='r', alpha = .5).set_title(\"Relationship of Unemployment Rate and GDP per person\")\n",
    "plt.xticks(rotation=60, ha='center')\n",
    "plt.legend(loc=0, prop={'size': 12})\n",
    "\n",
    "from matplotlib import rcParams\n",
    "\n",
    "rcParams['figure.figsize'] = 12,8\n",
    "# = sns.lineplot(data = sorted_suicide_summary_unemploy)\n",
    "plt.ylabel(\"Number of Suicides\")\n",
    "plt.legend(title='GDP')\n",
    "\n",
    "plt.show()\n"
   ]
  },
  {
   "cell_type": "code",
   "execution_count": 75,
   "id": "fa1c5606",
   "metadata": {},
   "outputs": [
    {
     "name": "stdout",
     "output_type": "stream",
     "text": [
      "<class 'pandas.core.frame.DataFrame'>\n",
      "Int64Index: 38 entries, 21 to 11\n",
      "Data columns (total 8 columns):\n",
      " #   Column                        Non-Null Count  Dtype  \n",
      "---  ------                        --------------  -----  \n",
      " 0   Year                          38 non-null     int64  \n",
      " 1   VALUE                         38 non-null     float64\n",
      " 2   GDP(in Bil. US$ PPP)          38 non-null     float64\n",
      " 3   GDP per capita(in US$ PPP)    38 non-null     int64  \n",
      " 4   GDP growth(real)              38 non-null     object \n",
      " 5   Inflation rate(in Percent)    38 non-null     object \n",
      " 6   Unemployment (in Percent)     38 non-null     float64\n",
      " 7   Government debt(in % of GDP)  23 non-null     object \n",
      "dtypes: float64(3), int64(2), object(3)\n",
      "memory usage: 2.7+ KB\n"
     ]
    }
   ],
   "source": [
    "sorted_suicide_summary_unemploy.info()"
   ]
  },
  {
   "cell_type": "code",
   "execution_count": null,
   "id": "02579f9a",
   "metadata": {},
   "outputs": [],
   "source": []
  },
  {
   "cell_type": "code",
   "execution_count": 76,
   "id": "a2e4cd39",
   "metadata": {},
   "outputs": [
    {
     "name": "stdout",
     "output_type": "stream",
     "text": [
      "['transport accidents']\n"
     ]
    }
   ],
   "source": [
    "my_query4 = keyword_search('trans')\n",
    "trasnport_accidents  = categorised_data(my_query4,'All ages', 'Both sexes')"
   ]
  },
  {
   "cell_type": "code",
   "execution_count": 77,
   "id": "b3171bb7",
   "metadata": {},
   "outputs": [
    {
     "data": {
      "text/plain": [
       "<AxesSubplot:title={'center':'Total Deaths Per Annum due Transport Accidents'}, xlabel=' Year', ylabel='Total Deaths'>"
      ]
     },
     "execution_count": 77,
     "metadata": {},
     "output_type": "execute_result"
    },
    {
     "data": {
      "image/png": "[encoded data removed]",
      "text/plain": [
       "<Figure size 720x432 with 1 Axes>"
      ]
     },
     "metadata": {
      "needs_background": "light"
     },
     "output_type": "display_data"
    }
   ],
   "source": [
    "trasnport_accidents_df_summary = trasnport_accidents.groupby('Year')['VALUE'].sum()\n",
    "trasnport_accidents_df_summary.plot(kind = 'bar', title = 'Total Deaths Per Annum due Transport Accidents', ylabel = 'Total Deaths', xlabel = ' Year', figsize = (10,6), color =(0.3, 0.1, 0.1, 0.2),  edgecolor='y', fontsize = 13)"
   ]
  },
  {
   "cell_type": "code",
   "execution_count": null,
   "id": "902acda8",
   "metadata": {},
   "outputs": [],
   "source": []
  },
  {
   "cell_type": "code",
   "execution_count": null,
   "id": "efb1d535",
   "metadata": {},
   "outputs": [],
   "source": []
  },
  {
   "cell_type": "code",
   "execution_count": null,
   "id": "49103ca3",
   "metadata": {},
   "outputs": [],
   "source": []
  }
 ],
 "metadata": {
  "kernelspec": {
   "display_name": "Python 3",
   "language": "python",
   "name": "python3"
  },
  "language_info": {
   "codemirror_mode": {
    "name": "ipython",
    "version": 3
   },
   "file_extension": ".py",
   "mimetype": "text/x-python",
   "name": "python",
   "nbconvert_exporter": "python",
   "pygments_lexer": "ipython3",
   "version": "3.8.8"
  }
 },
 "nbformat": 4,
 "nbformat_minor": 5
}
