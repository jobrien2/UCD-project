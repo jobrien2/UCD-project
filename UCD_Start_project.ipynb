{
 "cells": [
  {
   "cell_type": "code",
   "execution_count": 1,
   "id": "a6bb55c3-2365-44b3-8fd5-d3b3bd20cf17",
   "metadata": {},
   "outputs": [],
   "source": [
    "import pandas as pd\n",
    "import numpy as np\n",
    "import matplotlib.pyplot as plt\n",
    "import seaborn as sns\n",
    "import openpyxl\n",
    "import requests\n",
    "from sklearn.linear_model import LinearRegression"
   ]
  },
  {
   "cell_type": "markdown",
   "id": "23798526",
   "metadata": {},
   "source": [
    "#### Import Files"
   ]
  },
  {
   "cell_type": "code",
   "execution_count": 2,
   "id": "37cd5018",
   "metadata": {},
   "outputs": [],
   "source": [
    "mort_data = r'C:/Users/obrienjo/Desktop/Github/UCD-project/Mortality_data.csv'\n",
    "ireland_pop = r'C:/Users/obrienjo/Desktop/Github/UCD-project/Ireland Population.csv'"
   ]
  },
  {
   "cell_type": "code",
   "execution_count": 3,
   "id": "5061c4c3",
   "metadata": {},
   "outputs": [],
   "source": [
    "mort_df = pd.read_csv(mort_data)\n",
    "irl_pop = pd.read_csv(ireland_pop)\n"
   ]
  },
  {
   "cell_type": "code",
   "execution_count": 4,
   "id": "00348953",
   "metadata": {},
   "outputs": [
    {
     "name": "stdout",
     "output_type": "stream",
     "text": [
      "<class 'pandas.core.frame.DataFrame'>\n",
      "RangeIndex: 342228 entries, 0 to 342227\n",
      "Data columns (total 7 columns):\n",
      " #   Column          Non-Null Count   Dtype \n",
      "---  ------          --------------   ----- \n",
      " 0   Statistic       342228 non-null  object\n",
      " 1   Year            342228 non-null  int64 \n",
      " 2   Age Group       342228 non-null  object\n",
      " 3   Sex             342228 non-null  object\n",
      " 4   Cause of Death  342228 non-null  object\n",
      " 5   UNIT            342228 non-null  object\n",
      " 6   VALUE           342227 non-null  object\n",
      "dtypes: int64(1), object(6)\n",
      "memory usage: 18.3+ MB\n"
     ]
    }
   ],
   "source": [
    "mort_df.info()"
   ]
  },
  {
   "cell_type": "code",
   "execution_count": 5,
   "id": "74d2954b",
   "metadata": {},
   "outputs": [
    {
     "data": {
      "text/plain": [
       "2017"
      ]
     },
     "execution_count": 5,
     "metadata": {},
     "output_type": "execute_result"
    }
   ],
   "source": [
    "mort_df.head(10)\n",
    "mort_df['Year'].max()"
   ]
  },
  {
   "cell_type": "code",
   "execution_count": 6,
   "id": "8d290b24",
   "metadata": {},
   "outputs": [
    {
     "data": {
      "text/plain": [
       "Statistic         0\n",
       "Year              0\n",
       "Age Group         0\n",
       "Sex               0\n",
       "Cause of Death    0\n",
       "UNIT              0\n",
       "VALUE             1\n",
       "dtype: int64"
      ]
     },
     "execution_count": 6,
     "metadata": {},
     "output_type": "execute_result"
    }
   ],
   "source": [
    "mort_df.isna().sum()"
   ]
  },
  {
   "cell_type": "code",
   "execution_count": 7,
   "id": "bbbe635f",
   "metadata": {},
   "outputs": [
    {
     "data": {
      "text/plain": [
       "Index(['Statistic', 'Year', 'Age Group', 'Sex', 'Cause of Death', 'UNIT',\n",
       "       'VALUE'],\n",
       "      dtype='object')"
      ]
     },
     "execution_count": 7,
     "metadata": {},
     "output_type": "execute_result"
    }
   ],
   "source": [
    "mort_df.fillna('check', inplace = True)\n",
    "mort_df.columns"
   ]
  },
  {
   "cell_type": "code",
   "execution_count": 8,
   "id": "0c07633a",
   "metadata": {},
   "outputs": [
    {
     "data": {
      "text/html": [
       "<div>\n",
       "<style scoped>\n",
       "    .dataframe tbody tr th:only-of-type {\n",
       "        vertical-align: middle;\n",
       "    }\n",
       "\n",
       "    .dataframe tbody tr th {\n",
       "        vertical-align: top;\n",
       "    }\n",
       "\n",
       "    .dataframe thead th {\n",
       "        text-align: right;\n",
       "    }\n",
       "</style>\n",
       "<table border=\"1\" class=\"dataframe\">\n",
       "  <thead>\n",
       "    <tr style=\"text-align: right;\">\n",
       "      <th></th>\n",
       "      <th>Statistic</th>\n",
       "      <th>Year</th>\n",
       "      <th>Age Group</th>\n",
       "      <th>Sex</th>\n",
       "      <th>Cause of Death</th>\n",
       "      <th>UNIT</th>\n",
       "      <th>VALUE</th>\n",
       "    </tr>\n",
       "  </thead>\n",
       "  <tbody>\n",
       "    <tr>\n",
       "      <th>313812</th>\n",
       "      <td>Death Rate per 100,000 Population</td>\n",
       "      <td>2013</td>\n",
       "      <td>65 - 69 years</td>\n",
       "      <td>Both sexes</td>\n",
       "      <td>Malignant neoplasm of bladderb,Rate\"</td>\n",
       "      <td>5.79</td>\n",
       "      <td>check</td>\n",
       "    </tr>\n",
       "  </tbody>\n",
       "</table>\n",
       "</div>"
      ],
      "text/plain": [
       "                                Statistic  Year      Age Group         Sex  \\\n",
       "313812  Death Rate per 100,000 Population  2013  65 - 69 years  Both sexes   \n",
       "\n",
       "                              Cause of Death  UNIT  VALUE  \n",
       "313812  Malignant neoplasm of bladderb,Rate\"  5.79  check  "
      ]
     },
     "execution_count": 8,
     "metadata": {},
     "output_type": "execute_result"
    }
   ],
   "source": [
    "mort_df.query('VALUE == \"check\"')"
   ]
  },
  {
   "cell_type": "code",
   "execution_count": 9,
   "id": "977ee714",
   "metadata": {},
   "outputs": [],
   "source": [
    "mort_df_malignant_check = pd.DataFrame(mort_df[(mort_df['Year'] == 2013) & (mort_df['Age Group'] == '65 - 69 years') & (mort_df['Cause of Death'] == 'Malignant neoplasm of bladder') & (mort_df['Statistic'] == 'Death Rate per 100,000 Population')])\n",
    "mort_df_malignant_check['VALUE'] = mort_df_malignant_check['VALUE'].map(float)"
   ]
  },
  {
   "cell_type": "code",
   "execution_count": 10,
   "id": "615bb63c",
   "metadata": {},
   "outputs": [
    {
     "data": {
      "text/plain": [
       "5.79"
      ]
     },
     "execution_count": 10,
     "metadata": {},
     "output_type": "execute_result"
    }
   ],
   "source": [
    "np.mean(mort_df_malignant_check['VALUE'])"
   ]
  },
  {
   "cell_type": "code",
   "execution_count": 11,
   "id": "fbf0a2da",
   "metadata": {},
   "outputs": [],
   "source": [
    "mort_df.at[313812,'Cause of Death']='Malignant neoplasm of bladder'\n",
    "mort_df.at[313812,'UNIT'] = 'Rate'\n",
    "mort_df.at[313812,'VALUE'] = 5.79"
   ]
  },
  {
   "cell_type": "code",
   "execution_count": 12,
   "id": "31f7aad9",
   "metadata": {},
   "outputs": [
    {
     "data": {
      "text/html": [
       "<div>\n",
       "<style scoped>\n",
       "    .dataframe tbody tr th:only-of-type {\n",
       "        vertical-align: middle;\n",
       "    }\n",
       "\n",
       "    .dataframe tbody tr th {\n",
       "        vertical-align: top;\n",
       "    }\n",
       "\n",
       "    .dataframe thead th {\n",
       "        text-align: right;\n",
       "    }\n",
       "</style>\n",
       "<table border=\"1\" class=\"dataframe\">\n",
       "  <thead>\n",
       "    <tr style=\"text-align: right;\">\n",
       "      <th></th>\n",
       "      <th>Statistic</th>\n",
       "      <th>Year</th>\n",
       "      <th>Age Group</th>\n",
       "      <th>Sex</th>\n",
       "      <th>Cause of Death</th>\n",
       "      <th>UNIT</th>\n",
       "      <th>VALUE</th>\n",
       "    </tr>\n",
       "  </thead>\n",
       "  <tbody>\n",
       "  </tbody>\n",
       "</table>\n",
       "</div>"
      ],
      "text/plain": [
       "Empty DataFrame\n",
       "Columns: [Statistic, Year, Age Group, Sex, Cause of Death, UNIT, VALUE]\n",
       "Index: []"
      ]
     },
     "execution_count": 12,
     "metadata": {},
     "output_type": "execute_result"
    }
   ],
   "source": [
    "mort_df.query('VALUE == \"check\"')"
   ]
  },
  {
   "cell_type": "code",
   "execution_count": 13,
   "id": "bd04d444",
   "metadata": {},
   "outputs": [
    {
     "name": "stdout",
     "output_type": "stream",
     "text": [
      "<class 'pandas.core.frame.DataFrame'>\n",
      "RangeIndex: 342228 entries, 0 to 342227\n",
      "Data columns (total 7 columns):\n",
      " #   Column          Non-Null Count   Dtype \n",
      "---  ------          --------------   ----- \n",
      " 0   Statistic       342228 non-null  object\n",
      " 1   Year            342228 non-null  int64 \n",
      " 2   Age Group       342228 non-null  object\n",
      " 3   Sex             342228 non-null  object\n",
      " 4   Cause of Death  342228 non-null  object\n",
      " 5   UNIT            342228 non-null  object\n",
      " 6   VALUE           342228 non-null  object\n",
      "dtypes: int64(1), object(6)\n",
      "memory usage: 18.3+ MB\n"
     ]
    }
   ],
   "source": [
    "mort_df.info()"
   ]
  },
  {
   "cell_type": "code",
   "execution_count": 14,
   "id": "9f950912",
   "metadata": {},
   "outputs": [],
   "source": [
    "mort_df['VALUE'].replace({'-': 0 }, inplace=True)\n",
    "mort_df['VALUE'] = mort_df['VALUE'].map(float)"
   ]
  },
  {
   "cell_type": "code",
   "execution_count": 15,
   "id": "2967fa0e",
   "metadata": {},
   "outputs": [
    {
     "name": "stdout",
     "output_type": "stream",
     "text": [
      "<class 'pandas.core.frame.DataFrame'>\n",
      "RangeIndex: 342228 entries, 0 to 342227\n",
      "Data columns (total 7 columns):\n",
      " #   Column          Non-Null Count   Dtype  \n",
      "---  ------          --------------   -----  \n",
      " 0   Statistic       342228 non-null  object \n",
      " 1   Year            342228 non-null  int64  \n",
      " 2   Age Group       342228 non-null  object \n",
      " 3   Sex             342228 non-null  object \n",
      " 4   Cause of Death  342228 non-null  object \n",
      " 5   UNIT            342228 non-null  object \n",
      " 6   VALUE           342228 non-null  float64\n",
      "dtypes: float64(1), int64(1), object(5)\n",
      "memory usage: 18.3+ MB\n"
     ]
    }
   ],
   "source": [
    "mort_df.info()"
   ]
  },
  {
   "cell_type": "code",
   "execution_count": 16,
   "id": "f46e1be3",
   "metadata": {},
   "outputs": [
    {
     "data": {
      "text/plain": [
       "array(['Number', 'Rate'], dtype=object)"
      ]
     },
     "execution_count": 16,
     "metadata": {},
     "output_type": "execute_result"
    }
   ],
   "source": [
    "mort_df['UNIT'].unique()"
   ]
  },
  {
   "cell_type": "code",
   "execution_count": 17,
   "id": "1e825696",
   "metadata": {},
   "outputs": [],
   "source": [
    "mort_df_r = mort_df[mort_df['UNIT']== 'Number']"
   ]
  },
  {
   "cell_type": "markdown",
   "id": "9e3d1fcc",
   "metadata": {},
   "source": [
    "### Clean Population Data for the same time frame as mortality rates - 1980 to 2017"
   ]
  },
  {
   "cell_type": "code",
   "execution_count": 18,
   "id": "2c031e7c",
   "metadata": {},
   "outputs": [
    {
     "data": {
      "text/html": [
       "<div>\n",
       "<style scoped>\n",
       "    .dataframe tbody tr th:only-of-type {\n",
       "        vertical-align: middle;\n",
       "    }\n",
       "\n",
       "    .dataframe tbody tr th {\n",
       "        vertical-align: top;\n",
       "    }\n",
       "\n",
       "    .dataframe thead th {\n",
       "        text-align: right;\n",
       "    }\n",
       "</style>\n",
       "<table border=\"1\" class=\"dataframe\">\n",
       "  <thead>\n",
       "    <tr style=\"text-align: right;\">\n",
       "      <th></th>\n",
       "      <th>Statistic</th>\n",
       "      <th>Year</th>\n",
       "      <th>Age Group</th>\n",
       "      <th>Sex</th>\n",
       "      <th>UNIT</th>\n",
       "      <th>VALUE</th>\n",
       "    </tr>\n",
       "  </thead>\n",
       "  <tbody>\n",
       "    <tr>\n",
       "      <th>0</th>\n",
       "      <td>Population Estimates (Persons in April)</td>\n",
       "      <td>1950</td>\n",
       "      <td>Under 1 year</td>\n",
       "      <td>Both sexes</td>\n",
       "      <td>Thousand</td>\n",
       "      <td>61.1</td>\n",
       "    </tr>\n",
       "    <tr>\n",
       "      <th>1</th>\n",
       "      <td>Population Estimates (Persons in April)</td>\n",
       "      <td>1950</td>\n",
       "      <td>Under 1 year</td>\n",
       "      <td>Male</td>\n",
       "      <td>Thousand</td>\n",
       "      <td>31.4</td>\n",
       "    </tr>\n",
       "    <tr>\n",
       "      <th>2</th>\n",
       "      <td>Population Estimates (Persons in April)</td>\n",
       "      <td>1950</td>\n",
       "      <td>Under 1 year</td>\n",
       "      <td>Female</td>\n",
       "      <td>Thousand</td>\n",
       "      <td>29.7</td>\n",
       "    </tr>\n",
       "    <tr>\n",
       "      <th>3</th>\n",
       "      <td>Population Estimates (Persons in April)</td>\n",
       "      <td>1950</td>\n",
       "      <td>0 - 4 years</td>\n",
       "      <td>Both sexes</td>\n",
       "      <td>Thousand</td>\n",
       "      <td>NaN</td>\n",
       "    </tr>\n",
       "    <tr>\n",
       "      <th>4</th>\n",
       "      <td>Population Estimates (Persons in April)</td>\n",
       "      <td>1950</td>\n",
       "      <td>0 - 4 years</td>\n",
       "      <td>Male</td>\n",
       "      <td>Thousand</td>\n",
       "      <td>NaN</td>\n",
       "    </tr>\n",
       "    <tr>\n",
       "      <th>5</th>\n",
       "      <td>Population Estimates (Persons in April)</td>\n",
       "      <td>1950</td>\n",
       "      <td>0 - 4 years</td>\n",
       "      <td>Female</td>\n",
       "      <td>Thousand</td>\n",
       "      <td>NaN</td>\n",
       "    </tr>\n",
       "    <tr>\n",
       "      <th>6</th>\n",
       "      <td>Population Estimates (Persons in April)</td>\n",
       "      <td>1950</td>\n",
       "      <td>0 - 14 years</td>\n",
       "      <td>Both sexes</td>\n",
       "      <td>Thousand</td>\n",
       "      <td>851.2</td>\n",
       "    </tr>\n",
       "    <tr>\n",
       "      <th>7</th>\n",
       "      <td>Population Estimates (Persons in April)</td>\n",
       "      <td>1950</td>\n",
       "      <td>0 - 14 years</td>\n",
       "      <td>Male</td>\n",
       "      <td>Thousand</td>\n",
       "      <td>434.6</td>\n",
       "    </tr>\n",
       "    <tr>\n",
       "      <th>8</th>\n",
       "      <td>Population Estimates (Persons in April)</td>\n",
       "      <td>1950</td>\n",
       "      <td>0 - 14 years</td>\n",
       "      <td>Female</td>\n",
       "      <td>Thousand</td>\n",
       "      <td>416.6</td>\n",
       "    </tr>\n",
       "    <tr>\n",
       "      <th>9</th>\n",
       "      <td>Population Estimates (Persons in April)</td>\n",
       "      <td>1950</td>\n",
       "      <td>1 - 4 years</td>\n",
       "      <td>Both sexes</td>\n",
       "      <td>Thousand</td>\n",
       "      <td>249.1</td>\n",
       "    </tr>\n",
       "  </tbody>\n",
       "</table>\n",
       "</div>"
      ],
      "text/plain": [
       "                                 Statistic  Year     Age Group         Sex  \\\n",
       "0  Population Estimates (Persons in April)  1950  Under 1 year  Both sexes   \n",
       "1  Population Estimates (Persons in April)  1950  Under 1 year        Male   \n",
       "2  Population Estimates (Persons in April)  1950  Under 1 year      Female   \n",
       "3  Population Estimates (Persons in April)  1950   0 - 4 years  Both sexes   \n",
       "4  Population Estimates (Persons in April)  1950   0 - 4 years        Male   \n",
       "5  Population Estimates (Persons in April)  1950   0 - 4 years      Female   \n",
       "6  Population Estimates (Persons in April)  1950  0 - 14 years  Both sexes   \n",
       "7  Population Estimates (Persons in April)  1950  0 - 14 years        Male   \n",
       "8  Population Estimates (Persons in April)  1950  0 - 14 years      Female   \n",
       "9  Population Estimates (Persons in April)  1950   1 - 4 years  Both sexes   \n",
       "\n",
       "       UNIT  VALUE  \n",
       "0  Thousand   61.1  \n",
       "1  Thousand   31.4  \n",
       "2  Thousand   29.7  \n",
       "3  Thousand    NaN  \n",
       "4  Thousand    NaN  \n",
       "5  Thousand    NaN  \n",
       "6  Thousand  851.2  \n",
       "7  Thousand  434.6  \n",
       "8  Thousand  416.6  \n",
       "9  Thousand  249.1  "
      ]
     },
     "execution_count": 18,
     "metadata": {},
     "output_type": "execute_result"
    }
   ],
   "source": [
    "irl_pop.head(10)\n"
   ]
  },
  {
   "cell_type": "code",
   "execution_count": 19,
   "id": "3c259a21",
   "metadata": {},
   "outputs": [
    {
     "data": {
      "text/plain": [
       "array(['0 - 4 years'], dtype=object)"
      ]
     },
     "execution_count": 19,
     "metadata": {},
     "output_type": "execute_result"
    }
   ],
   "source": [
    "irl_pop_NA = irl_pop[irl_pop['VALUE'].isna()]\n",
    "irl_pop_NA['Age Group'].unique()\n",
    "\n"
   ]
  },
  {
   "cell_type": "code",
   "execution_count": 20,
   "id": "04344b33",
   "metadata": {},
   "outputs": [
    {
     "name": "stdout",
     "output_type": "stream",
     "text": [
      "[1980, 1982, 1983, 1984, 1985, 1987, 1988, 1989, 1990, 1992, 1993, 1994, 1995]\n"
     ]
    }
   ],
   "source": [
    "irl_pop_80_17 = irl_pop[(irl_pop['Year'] >= 1980) & (irl_pop['Year'] <=2017)]\n",
    "irl_pop_80_17.isna().sum()\n",
    "irl_pop_80_17_na = irl_pop_80_17[irl_pop_80_17['VALUE'].isna()]\n",
    "irl_pop_80_17_yearsna = irl_pop_80_17['Year'][irl_pop_80_17['VALUE'].isna()]\n",
    "year_list_missing_data = list(irl_pop_80_17_yearsna.unique())\n",
    "print(year_list_missing_data)\n",
    "    "
   ]
  },
  {
   "cell_type": "code",
   "execution_count": 21,
   "id": "a6e195f2",
   "metadata": {},
   "outputs": [
    {
     "data": {
      "text/plain": [
       "array(['0 - 4 years'], dtype=object)"
      ]
     },
     "execution_count": 21,
     "metadata": {},
     "output_type": "execute_result"
    }
   ],
   "source": [
    "irl_pop_80_17_na['Age Group'].unique()\n"
   ]
  },
  {
   "cell_type": "markdown",
   "id": "391a4cd8",
   "metadata": {},
   "source": [
    "### can we use future populatin relationship of 0 - 4 age group and 5 - 9 age group to determine missing data in 0 - 4 age group"
   ]
  },
  {
   "cell_type": "code",
   "execution_count": 22,
   "id": "88fca7ab",
   "metadata": {},
   "outputs": [
    {
     "name": "stdout",
     "output_type": "stream",
     "text": [
      "Age Group    0\n",
      "Statistic    0\n",
      "Year         0\n",
      "Sex          0\n",
      "UNIT         0\n",
      "VALUE        0\n",
      "dtype: int64\n",
      "0.8136002776506115\n"
     ]
    },
    {
     "data": {
      "image/png": "[encoded data removed]",
      "text/plain": [
       "<Figure size 432x288 with 1 Axes>"
      ]
     },
     "metadata": {
      "needs_background": "light"
     },
     "output_type": "display_data"
    }
   ],
   "source": [
    "irl_pop_95_17 = irl_pop_80_17[(irl_pop_80_17['Year'] > 1995) &(irl_pop_80_17['Year'] <=2017) & (irl_pop_80_17['Sex'] == 'Both sexes') ]\n",
    "\n",
    "indexset = irl_pop_95_17.reset_index(drop = True).set_index('Age Group')\n",
    "\n",
    "irl_pop_95_17_0to4 = indexset.loc['0 - 4 years'].reset_index(drop = False)\n",
    "irl_pop_95_17_5to9 = indexset.loc['5 - 9 years'].reset_index(drop = False)\n",
    "\n",
    "\n",
    "print(irl_pop_95_17_0to4.isna().sum())\n",
    "\n",
    "irl_pop_95_17_0to4['VALUE'] = irl_pop_95_17_0to4['VALUE'].map(float)\n",
    "irl_pop_95_17_5to9['VALUE'] = irl_pop_95_17_5to9['VALUE'].map(float)\n",
    "df_0to4 = pd.DataFrame(irl_pop_95_17_0to4)\n",
    "df_5to9 = pd.DataFrame(irl_pop_95_17_5to9)\n",
    "\n",
    "\n",
    "df3 = df_0to4.merge(df_5to9, on = 'Year')\n",
    "df3.columns\n",
    "correlation = df3['VALUE_x'].corr(df3['VALUE_y'])\n",
    "print(correlation)\n",
    "\n",
    "df3.plot(x ='Year', y=['VALUE_x','VALUE_y'], kind = 'line')\n",
    "plt.show()\n"
   ]
  },
  {
   "cell_type": "code",
   "execution_count": 23,
   "id": "53f416fd",
   "metadata": {},
   "outputs": [
    {
     "name": "stdout",
     "output_type": "stream",
     "text": [
      "coefficient of determination: 0.6619454117931518\n",
      "intercept: 88.43637012082363\n",
      "slope: [0.69550222]\n",
      "[262.31192592]\n"
     ]
    }
   ],
   "source": [
    "model = LinearRegression()\n",
    "x = np.array(df3['VALUE_x']).reshape((-1, 1))\n",
    "y = np.array(df3['VALUE_y'])\n",
    "model.fit(x, y)\n",
    "r_sq = model.score(x, y)\n",
    "print('coefficient of determination:', r_sq)\n",
    "print('intercept:', model.intercept_)\n",
    "print('slope:', model.coef_)\n",
    "print(model.intercept_ + model.coef_ * 250)\n"
   ]
  },
  {
   "cell_type": "code",
   "execution_count": 24,
   "id": "e16708c8",
   "metadata": {},
   "outputs": [
    {
     "name": "stdout",
     "output_type": "stream",
     "text": [
      "                                    Statistic  Year          Age Group  \\\n",
      "2430  Population Estimates (Persons in April)  1980       Under 1 year   \n",
      "2431  Population Estimates (Persons in April)  1980       Under 1 year   \n",
      "2432  Population Estimates (Persons in April)  1980       Under 1 year   \n",
      "2433  Population Estimates (Persons in April)  1980        0 - 4 years   \n",
      "2434  Population Estimates (Persons in April)  1980        0 - 4 years   \n",
      "...                                       ...   ...                ...   \n",
      "5503  Population Estimates (Persons in April)  2017  85 years and over   \n",
      "5504  Population Estimates (Persons in April)  2017  85 years and over   \n",
      "5505  Population Estimates (Persons in April)  2017           All ages   \n",
      "5506  Population Estimates (Persons in April)  2017           All ages   \n",
      "5507  Population Estimates (Persons in April)  2017           All ages   \n",
      "\n",
      "             Sex      UNIT   VALUE  \n",
      "2430  Both sexes  Thousand    72.5  \n",
      "2431        Male  Thousand    37.4  \n",
      "2432      Female  Thousand    35.1  \n",
      "2433  Both sexes  Thousand     NaN  \n",
      "2434        Male  Thousand     NaN  \n",
      "...          ...       ...     ...  \n",
      "5503        Male  Thousand    24.3  \n",
      "5504      Female  Thousand    45.3  \n",
      "5505  Both sexes  Thousand  4792.5  \n",
      "5506        Male  Thousand  2372.1  \n",
      "5507      Female  Thousand  2420.4  \n",
      "\n",
      "[3078 rows x 6 columns]\n"
     ]
    },
    {
     "data": {
      "text/plain": [
       "nan"
      ]
     },
     "execution_count": 24,
     "metadata": {},
     "output_type": "execute_result"
    }
   ],
   "source": [
    "#irl_pop_80_17_both_sex = irl_pop_80_17[(irl_pop_80_17['Year'] >= 1980) &(irl_pop_80_17['Year'] <=) & (irl_pop_80_17['Sex'] == 'Both sexes') ]\n",
    "\n",
    "irl_pop_80_17 = pd.DataFrame(irl_pop_80_17)\n",
    "#irl_pop_80_17.reset_index(level=None, drop=False)\n",
    "print(irl_pop_80_17)\n",
    "irl_pop_80_17.iloc[3,5]"
   ]
  },
  {
   "cell_type": "code",
   "execution_count": 25,
   "id": "a1ad878e",
   "metadata": {},
   "outputs": [
    {
     "name": "stdout",
     "output_type": "stream",
     "text": [
      "[331 212 207 332 213 207 333 214 207 333 214 208 333 214 207 333 213 207\n",
      " 331 212 206 326 210 203 317 205 199 304 199 193 298 196 190 292 193 187\n",
      " 288 190 185]\n",
      "[3, 4, 5, 165, 166, 167, 246, 247, 248, 327, 328, 329, 408, 409, 410, 570, 571, 572, 651, 652, 653, 732, 733, 734, 813, 814, 815, 975, 976, 977, 1056, 1057, 1058, 1137, 1138, 1139, 1218, 1219, 1220]\n"
     ]
    },
    {
     "data": {
      "text/html": [
       "<div>\n",
       "<style scoped>\n",
       "    .dataframe tbody tr th:only-of-type {\n",
       "        vertical-align: middle;\n",
       "    }\n",
       "\n",
       "    .dataframe tbody tr th {\n",
       "        vertical-align: top;\n",
       "    }\n",
       "\n",
       "    .dataframe thead th {\n",
       "        text-align: right;\n",
       "    }\n",
       "</style>\n",
       "<table border=\"1\" class=\"dataframe\">\n",
       "  <thead>\n",
       "    <tr style=\"text-align: right;\">\n",
       "      <th></th>\n",
       "      <th>Statistic</th>\n",
       "      <th>Year</th>\n",
       "      <th>Age Group</th>\n",
       "      <th>Sex</th>\n",
       "      <th>UNIT</th>\n",
       "      <th>VALUE</th>\n",
       "    </tr>\n",
       "  </thead>\n",
       "  <tbody>\n",
       "    <tr>\n",
       "      <th>2430</th>\n",
       "      <td>Population Estimates (Persons in April)</td>\n",
       "      <td>1980</td>\n",
       "      <td>Under 1 year</td>\n",
       "      <td>Both sexes</td>\n",
       "      <td>Thousand</td>\n",
       "      <td>72.5</td>\n",
       "    </tr>\n",
       "    <tr>\n",
       "      <th>2431</th>\n",
       "      <td>Population Estimates (Persons in April)</td>\n",
       "      <td>1980</td>\n",
       "      <td>Under 1 year</td>\n",
       "      <td>Male</td>\n",
       "      <td>Thousand</td>\n",
       "      <td>37.4</td>\n",
       "    </tr>\n",
       "    <tr>\n",
       "      <th>2432</th>\n",
       "      <td>Population Estimates (Persons in April)</td>\n",
       "      <td>1980</td>\n",
       "      <td>Under 1 year</td>\n",
       "      <td>Female</td>\n",
       "      <td>Thousand</td>\n",
       "      <td>35.1</td>\n",
       "    </tr>\n",
       "    <tr>\n",
       "      <th>2433</th>\n",
       "      <td>Population Estimates (Persons in April)</td>\n",
       "      <td>1980</td>\n",
       "      <td>0 - 4 years</td>\n",
       "      <td>Both sexes</td>\n",
       "      <td>Thousand</td>\n",
       "      <td>331</td>\n",
       "    </tr>\n",
       "    <tr>\n",
       "      <th>2434</th>\n",
       "      <td>Population Estimates (Persons in April)</td>\n",
       "      <td>1980</td>\n",
       "      <td>0 - 4 years</td>\n",
       "      <td>Male</td>\n",
       "      <td>Thousand</td>\n",
       "      <td>212</td>\n",
       "    </tr>\n",
       "    <tr>\n",
       "      <th>2435</th>\n",
       "      <td>Population Estimates (Persons in April)</td>\n",
       "      <td>1980</td>\n",
       "      <td>0 - 4 years</td>\n",
       "      <td>Female</td>\n",
       "      <td>Thousand</td>\n",
       "      <td>207</td>\n",
       "    </tr>\n",
       "    <tr>\n",
       "      <th>2436</th>\n",
       "      <td>Population Estimates (Persons in April)</td>\n",
       "      <td>1980</td>\n",
       "      <td>0 - 14 years</td>\n",
       "      <td>Both sexes</td>\n",
       "      <td>Thousand</td>\n",
       "      <td>1035.4</td>\n",
       "    </tr>\n",
       "    <tr>\n",
       "      <th>2437</th>\n",
       "      <td>Population Estimates (Persons in April)</td>\n",
       "      <td>1980</td>\n",
       "      <td>0 - 14 years</td>\n",
       "      <td>Male</td>\n",
       "      <td>Thousand</td>\n",
       "      <td>530.6</td>\n",
       "    </tr>\n",
       "    <tr>\n",
       "      <th>2438</th>\n",
       "      <td>Population Estimates (Persons in April)</td>\n",
       "      <td>1980</td>\n",
       "      <td>0 - 14 years</td>\n",
       "      <td>Female</td>\n",
       "      <td>Thousand</td>\n",
       "      <td>504.9</td>\n",
       "    </tr>\n",
       "    <tr>\n",
       "      <th>2439</th>\n",
       "      <td>Population Estimates (Persons in April)</td>\n",
       "      <td>1980</td>\n",
       "      <td>1 - 4 years</td>\n",
       "      <td>Both sexes</td>\n",
       "      <td>Thousand</td>\n",
       "      <td>275.2</td>\n",
       "    </tr>\n",
       "  </tbody>\n",
       "</table>\n",
       "</div>"
      ],
      "text/plain": [
       "                                    Statistic  Year     Age Group         Sex  \\\n",
       "2430  Population Estimates (Persons in April)  1980  Under 1 year  Both sexes   \n",
       "2431  Population Estimates (Persons in April)  1980  Under 1 year        Male   \n",
       "2432  Population Estimates (Persons in April)  1980  Under 1 year      Female   \n",
       "2433  Population Estimates (Persons in April)  1980   0 - 4 years  Both sexes   \n",
       "2434  Population Estimates (Persons in April)  1980   0 - 4 years        Male   \n",
       "2435  Population Estimates (Persons in April)  1980   0 - 4 years      Female   \n",
       "2436  Population Estimates (Persons in April)  1980  0 - 14 years  Both sexes   \n",
       "2437  Population Estimates (Persons in April)  1980  0 - 14 years        Male   \n",
       "2438  Population Estimates (Persons in April)  1980  0 - 14 years      Female   \n",
       "2439  Population Estimates (Persons in April)  1980   1 - 4 years  Both sexes   \n",
       "\n",
       "          UNIT   VALUE  \n",
       "2430  Thousand    72.5  \n",
       "2431  Thousand    37.4  \n",
       "2432  Thousand    35.1  \n",
       "2433  Thousand     331  \n",
       "2434  Thousand     212  \n",
       "2435  Thousand     207  \n",
       "2436  Thousand  1035.4  \n",
       "2437  Thousand   530.6  \n",
       "2438  Thousand   504.9  \n",
       "2439  Thousand   275.2  "
      ]
     },
     "execution_count": 25,
     "metadata": {},
     "output_type": "execute_result"
    }
   ],
   "source": [
    "\n",
    "irl_pop_80_17.fillna('check', inplace = True)\n",
    "new_age_list = []\n",
    "index_list = []\n",
    "for l, row in irl_pop_80_17.iterrows():    \n",
    "    if row['VALUE'] == 'check':\n",
    "        index = irl_pop_80_17.index.get_loc(l)\n",
    "        index = int(index)\n",
    "        index_list.append(index)\n",
    "        \n",
    "        #index=irl_pop_80_17.index\n",
    "        #ref_index = index[row['VALUE']=='check']\n",
    "        \n",
    "        year = row['Year']\n",
    "        sex = row['Sex']\n",
    "        age = '5 - 9 years'\n",
    "        indexset = irl_pop_80_17.reset_index(drop = True).set_index(['Year', 'Sex', 'Age Group'])\n",
    "        regressionx = indexset['VALUE'].loc[(year, sex, age)]\n",
    "        new_age = (model.intercept_ + model.coef_ * regressionx)\n",
    "        new_age = int(new_age)      \n",
    "        new_age_list.append(new_age)\n",
    "        \n",
    "        irl_pop_80_17.iloc[index,5] == new_age\n",
    "        #row['VALUE'].replace({'check': new_age }, inplace=True)\n",
    "new_age_list = np.array(new_age_list).flatten()\n",
    "print(new_age_list)\n",
    "print(index_list)        \n",
    "\n",
    "irl_pop_80_17.head(10)\n",
    "\n",
    "index_list_range = list(range(len(index_list)))\n",
    "for i in index_list_range:\n",
    "     irl_pop_80_17.iloc[index_list[i],5] = new_age_list[i]\n",
    "irl_pop_80_17.head(10)        "
   ]
  },
  {
   "cell_type": "code",
   "execution_count": 26,
   "id": "c09e91cb",
   "metadata": {},
   "outputs": [
    {
     "name": "stdout",
     "output_type": "stream",
     "text": [
      "<class 'pandas.core.frame.DataFrame'>\n",
      "Int64Index: 3078 entries, 2430 to 5507\n",
      "Data columns (total 6 columns):\n",
      " #   Column     Non-Null Count  Dtype \n",
      "---  ------     --------------  ----- \n",
      " 0   Statistic  3078 non-null   object\n",
      " 1   Year       3078 non-null   int64 \n",
      " 2   Age Group  3078 non-null   object\n",
      " 3   Sex        3078 non-null   object\n",
      " 4   UNIT       3078 non-null   object\n",
      " 5   VALUE      3078 non-null   object\n",
      "dtypes: int64(1), object(5)\n",
      "memory usage: 232.9+ KB\n"
     ]
    }
   ],
   "source": [
    "irl_pop_80_17.info()\n",
    "irl_pop_80_17['UNIT'].unique()\n",
    "irl_pop_80_17['Population'] = irl_pop_80_17['VALUE'] * 1000"
   ]
  },
  {
   "cell_type": "code",
   "execution_count": 27,
   "id": "521c4c0d",
   "metadata": {},
   "outputs": [],
   "source": [
    "irl_pop_80_17_m = irl_pop_80_17[['Year', 'Age Group', 'Sex', 'Population']]"
   ]
  },
  {
   "cell_type": "code",
   "execution_count": 28,
   "id": "9957e160",
   "metadata": {},
   "outputs": [
    {
     "data": {
      "text/plain": [
       "(171114, 7)"
      ]
     },
     "execution_count": 28,
     "metadata": {},
     "output_type": "execute_result"
    }
   ],
   "source": [
    "mort_df_r.columns\n",
    "mort_df_r.shape\n",
    "\n"
   ]
  },
  {
   "cell_type": "markdown",
   "id": "43329919",
   "metadata": {},
   "source": [
    "### Join population and mortality df"
   ]
  },
  {
   "cell_type": "code",
   "execution_count": 29,
   "id": "bf4ecd17",
   "metadata": {},
   "outputs": [],
   "source": [
    "new_mort_df = pd.merge(mort_df_r,irl_pop_80_17_m, how = 'left', left_on =['Year', 'Age Group', 'Sex'], right_on = ['Year', 'Age Group', 'Sex'], suffixes = ('_mort', '_pop'))"
   ]
  },
  {
   "cell_type": "code",
   "execution_count": 30,
   "id": "52b67278",
   "metadata": {},
   "outputs": [
    {
     "data": {
      "text/plain": [
       "(171114, 8)"
      ]
     },
     "execution_count": 30,
     "metadata": {},
     "output_type": "execute_result"
    }
   ],
   "source": [
    "new_mort_df.shape\n",
    "\n"
   ]
  },
  {
   "cell_type": "code",
   "execution_count": 31,
   "id": "6f73ed53",
   "metadata": {},
   "outputs": [
    {
     "data": {
      "text/html": [
       "<div>\n",
       "<style scoped>\n",
       "    .dataframe tbody tr th:only-of-type {\n",
       "        vertical-align: middle;\n",
       "    }\n",
       "\n",
       "    .dataframe tbody tr th {\n",
       "        vertical-align: top;\n",
       "    }\n",
       "\n",
       "    .dataframe thead th {\n",
       "        text-align: right;\n",
       "    }\n",
       "</style>\n",
       "<table border=\"1\" class=\"dataframe\">\n",
       "  <thead>\n",
       "    <tr style=\"text-align: right;\">\n",
       "      <th></th>\n",
       "      <th>Statistic</th>\n",
       "      <th>Year</th>\n",
       "      <th>Age Group</th>\n",
       "      <th>Sex</th>\n",
       "      <th>Cause of Death</th>\n",
       "      <th>UNIT</th>\n",
       "      <th>VALUE</th>\n",
       "      <th>Population</th>\n",
       "    </tr>\n",
       "  </thead>\n",
       "  <tbody>\n",
       "    <tr>\n",
       "      <th>0</th>\n",
       "      <td>Deaths</td>\n",
       "      <td>1980</td>\n",
       "      <td>0 - 4 years</td>\n",
       "      <td>Both sexes</td>\n",
       "      <td>All causes of death</td>\n",
       "      <td>Number</td>\n",
       "      <td>1006.0</td>\n",
       "      <td>331000</td>\n",
       "    </tr>\n",
       "    <tr>\n",
       "      <th>1</th>\n",
       "      <td>Deaths</td>\n",
       "      <td>1980</td>\n",
       "      <td>0 - 4 years</td>\n",
       "      <td>Both sexes</td>\n",
       "      <td>Infectious and parasitic diseases</td>\n",
       "      <td>Number</td>\n",
       "      <td>38.0</td>\n",
       "      <td>331000</td>\n",
       "    </tr>\n",
       "    <tr>\n",
       "      <th>2</th>\n",
       "      <td>Deaths</td>\n",
       "      <td>1980</td>\n",
       "      <td>0 - 4 years</td>\n",
       "      <td>Both sexes</td>\n",
       "      <td>Tuberculosis</td>\n",
       "      <td>Number</td>\n",
       "      <td>0.0</td>\n",
       "      <td>331000</td>\n",
       "    </tr>\n",
       "    <tr>\n",
       "      <th>3</th>\n",
       "      <td>Deaths</td>\n",
       "      <td>1980</td>\n",
       "      <td>0 - 4 years</td>\n",
       "      <td>Both sexes</td>\n",
       "      <td>Meningococcal infection</td>\n",
       "      <td>Number</td>\n",
       "      <td>14.0</td>\n",
       "      <td>331000</td>\n",
       "    </tr>\n",
       "    <tr>\n",
       "      <th>4</th>\n",
       "      <td>Deaths</td>\n",
       "      <td>1980</td>\n",
       "      <td>0 - 4 years</td>\n",
       "      <td>Both sexes</td>\n",
       "      <td>Aids (HIV disease)</td>\n",
       "      <td>Number</td>\n",
       "      <td>0.0</td>\n",
       "      <td>331000</td>\n",
       "    </tr>\n",
       "    <tr>\n",
       "      <th>5</th>\n",
       "      <td>Deaths</td>\n",
       "      <td>1980</td>\n",
       "      <td>0 - 4 years</td>\n",
       "      <td>Both sexes</td>\n",
       "      <td>Viral hepatitis</td>\n",
       "      <td>Number</td>\n",
       "      <td>0.0</td>\n",
       "      <td>331000</td>\n",
       "    </tr>\n",
       "    <tr>\n",
       "      <th>6</th>\n",
       "      <td>Deaths</td>\n",
       "      <td>1980</td>\n",
       "      <td>0 - 4 years</td>\n",
       "      <td>Both sexes</td>\n",
       "      <td>All other infectious and parasitic diseases</td>\n",
       "      <td>Number</td>\n",
       "      <td>24.0</td>\n",
       "      <td>331000</td>\n",
       "    </tr>\n",
       "    <tr>\n",
       "      <th>7</th>\n",
       "      <td>Deaths</td>\n",
       "      <td>1980</td>\n",
       "      <td>0 - 4 years</td>\n",
       "      <td>Both sexes</td>\n",
       "      <td>Neoplasms</td>\n",
       "      <td>Number</td>\n",
       "      <td>16.0</td>\n",
       "      <td>331000</td>\n",
       "    </tr>\n",
       "    <tr>\n",
       "      <th>8</th>\n",
       "      <td>Deaths</td>\n",
       "      <td>1980</td>\n",
       "      <td>0 - 4 years</td>\n",
       "      <td>Both sexes</td>\n",
       "      <td>Malignant neoplasms</td>\n",
       "      <td>Number</td>\n",
       "      <td>16.0</td>\n",
       "      <td>331000</td>\n",
       "    </tr>\n",
       "    <tr>\n",
       "      <th>9</th>\n",
       "      <td>Deaths</td>\n",
       "      <td>1980</td>\n",
       "      <td>0 - 4 years</td>\n",
       "      <td>Both sexes</td>\n",
       "      <td>Malignant neoplasm of lip, oral cavity, pharynx</td>\n",
       "      <td>Number</td>\n",
       "      <td>0.0</td>\n",
       "      <td>331000</td>\n",
       "    </tr>\n",
       "  </tbody>\n",
       "</table>\n",
       "</div>"
      ],
      "text/plain": [
       "  Statistic  Year    Age Group         Sex  \\\n",
       "0    Deaths  1980  0 - 4 years  Both sexes   \n",
       "1    Deaths  1980  0 - 4 years  Both sexes   \n",
       "2    Deaths  1980  0 - 4 years  Both sexes   \n",
       "3    Deaths  1980  0 - 4 years  Both sexes   \n",
       "4    Deaths  1980  0 - 4 years  Both sexes   \n",
       "5    Deaths  1980  0 - 4 years  Both sexes   \n",
       "6    Deaths  1980  0 - 4 years  Both sexes   \n",
       "7    Deaths  1980  0 - 4 years  Both sexes   \n",
       "8    Deaths  1980  0 - 4 years  Both sexes   \n",
       "9    Deaths  1980  0 - 4 years  Both sexes   \n",
       "\n",
       "                                    Cause of Death    UNIT   VALUE Population  \n",
       "0                              All causes of death  Number  1006.0     331000  \n",
       "1                Infectious and parasitic diseases  Number    38.0     331000  \n",
       "2                                     Tuberculosis  Number     0.0     331000  \n",
       "3                          Meningococcal infection  Number    14.0     331000  \n",
       "4                               Aids (HIV disease)  Number     0.0     331000  \n",
       "5                                  Viral hepatitis  Number     0.0     331000  \n",
       "6      All other infectious and parasitic diseases  Number    24.0     331000  \n",
       "7                                        Neoplasms  Number    16.0     331000  \n",
       "8                              Malignant neoplasms  Number    16.0     331000  \n",
       "9  Malignant neoplasm of lip, oral cavity, pharynx  Number     0.0     331000  "
      ]
     },
     "execution_count": 31,
     "metadata": {},
     "output_type": "execute_result"
    }
   ],
   "source": [
    "new_mort_df.head(10)\n"
   ]
  },
  {
   "cell_type": "code",
   "execution_count": 32,
   "id": "9c0e9f3c",
   "metadata": {},
   "outputs": [],
   "source": [
    "new_mort_df['Death_Percent'] = (new_mort_df['VALUE']/new_mort_df['Population']) * 100\n",
    "new_mort_df_Summary = new_mort_df[(new_mort_df['Age Group'] == 'All ages') & (new_mort_df['Sex'] == 'Both sexes') & (new_mort_df['Cause of Death'] == 'All causes of death')]\n"
   ]
  },
  {
   "cell_type": "code",
   "execution_count": 33,
   "id": "0a1e1d53",
   "metadata": {},
   "outputs": [
    {
     "data": {
      "text/plain": [
       "<AxesSubplot:title={'center':'Total Deaths Per Annum'}, xlabel=' Year', ylabel='Total Deaths'>"
      ]
     },
     "execution_count": 33,
     "metadata": {},
     "output_type": "execute_result"
    },
    {
     "data": {
      "image/png": "[encoded data removed]",
      "text/plain": [
       "<Figure size 720x432 with 1 Axes>"
      ]
     },
     "metadata": {
      "needs_background": "light"
     },
     "output_type": "display_data"
    }
   ],
   "source": [
    "new_mort_df_Summary_group = new_mort_df_Summary.groupby('Year')['VALUE'].sum()\n",
    "new_mort_df_Summary_group.plot(kind = 'bar', title = 'Total Deaths Per Annum', ylabel = 'Total Deaths', xlabel = ' Year', figsize = (10,6), color =(0.2, 0.1, 0.1, 0.1),  edgecolor='red', fontsize = 13)\n",
    "                       \n"
   ]
  },
  {
   "cell_type": "code",
   "execution_count": 34,
   "id": "730d5cb4",
   "metadata": {},
   "outputs": [
    {
     "data": {
      "text/plain": [
       "<AxesSubplot:title={'center':'Population by Year'}, xlabel=' Year', ylabel='Population'>"
      ]
     },
     "execution_count": 34,
     "metadata": {},
     "output_type": "execute_result"
    },
    {
     "data": {
      "image/png": "[encoded data removed]",
      "text/plain": [
       "<Figure size 720x432 with 1 Axes>"
      ]
     },
     "metadata": {
      "needs_background": "light"
     },
     "output_type": "display_data"
    }
   ],
   "source": [
    "new_mort_df_Summary_group = new_mort_df_Summary.groupby('Year')['Population'].sum()\n",
    "new_mort_df_Summary_group.plot(kind = 'bar', title = 'Population by Year', ylabel = 'Population', xlabel = ' Year', figsize = (10,6))\n"
   ]
  },
  {
   "cell_type": "code",
   "execution_count": 35,
   "id": "24fa9f94",
   "metadata": {},
   "outputs": [],
   "source": [
    "\n",
    "def keyword_search (search_word):\n",
    "    list_of_key = []   \n",
    "    search = search_word\n",
    "    d = '(?!$)' + search + '(?!$)'\n",
    "    key = new_mort_df['Cause of Death'].str.lower()[new_mort_df['Cause of Death'].str.lower().str.contains(d)].unique()\n",
    "    list_of_key.append(key)\n",
    "    list_of_key = np.array(list_of_key).flatten()\n",
    "    print (list_of_key)\n",
    "    #print(list(new_mort_df['Age Group'].unique()))\n",
    "    return (list_of_key)"
   ]
  },
  {
   "cell_type": "code",
   "execution_count": 40,
   "id": "2ad00cbf",
   "metadata": {},
   "outputs": [
    {
     "name": "stdout",
     "output_type": "stream",
     "text": [
      "['meningococcal infection' 'mental and behavioural disorders' 'meningitis']\n"
     ]
    }
   ],
   "source": [
    "list_of_key = keyword_search('meni')\n",
    "#keyword_search('car')\n",
    "#print(list_of_key)\n"
   ]
  },
  {
   "cell_type": "markdown",
   "id": "6e678d5b",
   "metadata": {},
   "source": [
    "### meningitis related deaths\n",
    "add sort to list\n"
   ]
  },
  {
   "cell_type": "code",
   "execution_count": 41,
   "id": "ba3ef0da",
   "metadata": {},
   "outputs": [],
   "source": [
    "def categorised_data (query, age_group):\n",
    "    indexset = new_mort_df.reset_index(drop = False).set_index('Age Group')\n",
    "    sorted_mort_df = indexset.loc[age_group].reset_index(drop = False)\n",
    "    sorted_mort_df['Cause of Death'] = sorted_mort_df['Cause of Death'].str.lower()    \n",
    "    sorted_mort_df = sorted_mort_df.reset_index(drop = False).set_index('Cause of Death')\n",
    "    new_sorted_mort_df = sorted_mort_df.loc[query].reset_index(drop = False)\n",
    "    return new_sorted_mort_df"
   ]
  },
  {
   "cell_type": "code",
   "execution_count": 42,
   "id": "385e2824",
   "metadata": {},
   "outputs": [
    {
     "data": {
      "text/html": [
       "<div>\n",
       "<style scoped>\n",
       "    .dataframe tbody tr th:only-of-type {\n",
       "        vertical-align: middle;\n",
       "    }\n",
       "\n",
       "    .dataframe tbody tr th {\n",
       "        vertical-align: top;\n",
       "    }\n",
       "\n",
       "    .dataframe thead th {\n",
       "        text-align: right;\n",
       "    }\n",
       "</style>\n",
       "<table border=\"1\" class=\"dataframe\">\n",
       "  <thead>\n",
       "    <tr style=\"text-align: right;\">\n",
       "      <th></th>\n",
       "      <th>Cause of Death</th>\n",
       "      <th>level_0</th>\n",
       "      <th>Age Group</th>\n",
       "      <th>index</th>\n",
       "      <th>Statistic</th>\n",
       "      <th>Year</th>\n",
       "      <th>Sex</th>\n",
       "      <th>UNIT</th>\n",
       "      <th>VALUE</th>\n",
       "      <th>Population</th>\n",
       "      <th>Death_Percent</th>\n",
       "    </tr>\n",
       "  </thead>\n",
       "  <tbody>\n",
       "    <tr>\n",
       "      <th>0</th>\n",
       "      <td>meningococcal infection</td>\n",
       "      <td>3</td>\n",
       "      <td>All ages</td>\n",
       "      <td>4269</td>\n",
       "      <td>Deaths</td>\n",
       "      <td>1980</td>\n",
       "      <td>Both sexes</td>\n",
       "      <td>Number</td>\n",
       "      <td>18.0</td>\n",
       "      <td>3401000.0</td>\n",
       "      <td>0.000529</td>\n",
       "    </tr>\n",
       "    <tr>\n",
       "      <th>1</th>\n",
       "      <td>meningococcal infection</td>\n",
       "      <td>82</td>\n",
       "      <td>All ages</td>\n",
       "      <td>4348</td>\n",
       "      <td>Deaths</td>\n",
       "      <td>1980</td>\n",
       "      <td>Male</td>\n",
       "      <td>Number</td>\n",
       "      <td>11.0</td>\n",
       "      <td>1709000.0</td>\n",
       "      <td>0.000644</td>\n",
       "    </tr>\n",
       "    <tr>\n",
       "      <th>2</th>\n",
       "      <td>meningococcal infection</td>\n",
       "      <td>161</td>\n",
       "      <td>All ages</td>\n",
       "      <td>4427</td>\n",
       "      <td>Deaths</td>\n",
       "      <td>1980</td>\n",
       "      <td>Female</td>\n",
       "      <td>Number</td>\n",
       "      <td>7.0</td>\n",
       "      <td>1692000.0</td>\n",
       "      <td>0.000414</td>\n",
       "    </tr>\n",
       "    <tr>\n",
       "      <th>3</th>\n",
       "      <td>meningococcal infection</td>\n",
       "      <td>240</td>\n",
       "      <td>All ages</td>\n",
       "      <td>8772</td>\n",
       "      <td>Deaths</td>\n",
       "      <td>1982</td>\n",
       "      <td>Both sexes</td>\n",
       "      <td>Number</td>\n",
       "      <td>22.0</td>\n",
       "      <td>3480000.0</td>\n",
       "      <td>0.000632</td>\n",
       "    </tr>\n",
       "    <tr>\n",
       "      <th>4</th>\n",
       "      <td>meningococcal infection</td>\n",
       "      <td>319</td>\n",
       "      <td>All ages</td>\n",
       "      <td>8851</td>\n",
       "      <td>Deaths</td>\n",
       "      <td>1982</td>\n",
       "      <td>Male</td>\n",
       "      <td>Number</td>\n",
       "      <td>12.0</td>\n",
       "      <td>1746000.0</td>\n",
       "      <td>0.000687</td>\n",
       "    </tr>\n",
       "    <tr>\n",
       "      <th>...</th>\n",
       "      <td>...</td>\n",
       "      <td>...</td>\n",
       "      <td>...</td>\n",
       "      <td>...</td>\n",
       "      <td>...</td>\n",
       "      <td>...</td>\n",
       "      <td>...</td>\n",
       "      <td>...</td>\n",
       "      <td>...</td>\n",
       "      <td>...</td>\n",
       "      <td>...</td>\n",
       "    </tr>\n",
       "    <tr>\n",
       "      <th>337</th>\n",
       "      <td>meningitis</td>\n",
       "      <td>8645</td>\n",
       "      <td>All ages</td>\n",
       "      <td>166487</td>\n",
       "      <td>Deaths</td>\n",
       "      <td>1981</td>\n",
       "      <td>Male</td>\n",
       "      <td>Number</td>\n",
       "      <td>12.0</td>\n",
       "      <td>1729400.0</td>\n",
       "      <td>0.000694</td>\n",
       "    </tr>\n",
       "    <tr>\n",
       "      <th>338</th>\n",
       "      <td>meningitis</td>\n",
       "      <td>8724</td>\n",
       "      <td>All ages</td>\n",
       "      <td>166566</td>\n",
       "      <td>Deaths</td>\n",
       "      <td>1981</td>\n",
       "      <td>Female</td>\n",
       "      <td>Number</td>\n",
       "      <td>6.0</td>\n",
       "      <td>1714100.0</td>\n",
       "      <td>0.00035</td>\n",
       "    </tr>\n",
       "    <tr>\n",
       "      <th>339</th>\n",
       "      <td>meningitis</td>\n",
       "      <td>8803</td>\n",
       "      <td>All ages</td>\n",
       "      <td>170911</td>\n",
       "      <td>Deaths</td>\n",
       "      <td>2000</td>\n",
       "      <td>Both sexes</td>\n",
       "      <td>Number</td>\n",
       "      <td>5.0</td>\n",
       "      <td>3789500.0</td>\n",
       "      <td>0.000132</td>\n",
       "    </tr>\n",
       "    <tr>\n",
       "      <th>340</th>\n",
       "      <td>meningitis</td>\n",
       "      <td>8882</td>\n",
       "      <td>All ages</td>\n",
       "      <td>170990</td>\n",
       "      <td>Deaths</td>\n",
       "      <td>2000</td>\n",
       "      <td>Male</td>\n",
       "      <td>Number</td>\n",
       "      <td>1.0</td>\n",
       "      <td>1882900.0</td>\n",
       "      <td>0.000053</td>\n",
       "    </tr>\n",
       "    <tr>\n",
       "      <th>341</th>\n",
       "      <td>meningitis</td>\n",
       "      <td>8961</td>\n",
       "      <td>All ages</td>\n",
       "      <td>171069</td>\n",
       "      <td>Deaths</td>\n",
       "      <td>2000</td>\n",
       "      <td>Female</td>\n",
       "      <td>Number</td>\n",
       "      <td>4.0</td>\n",
       "      <td>1906600.0</td>\n",
       "      <td>0.00021</td>\n",
       "    </tr>\n",
       "  </tbody>\n",
       "</table>\n",
       "<p>342 rows × 11 columns</p>\n",
       "</div>"
      ],
      "text/plain": [
       "              Cause of Death  level_0 Age Group   index Statistic  Year  \\\n",
       "0    meningococcal infection        3  All ages    4269    Deaths  1980   \n",
       "1    meningococcal infection       82  All ages    4348    Deaths  1980   \n",
       "2    meningococcal infection      161  All ages    4427    Deaths  1980   \n",
       "3    meningococcal infection      240  All ages    8772    Deaths  1982   \n",
       "4    meningococcal infection      319  All ages    8851    Deaths  1982   \n",
       "..                       ...      ...       ...     ...       ...   ...   \n",
       "337               meningitis     8645  All ages  166487    Deaths  1981   \n",
       "338               meningitis     8724  All ages  166566    Deaths  1981   \n",
       "339               meningitis     8803  All ages  170911    Deaths  2000   \n",
       "340               meningitis     8882  All ages  170990    Deaths  2000   \n",
       "341               meningitis     8961  All ages  171069    Deaths  2000   \n",
       "\n",
       "            Sex    UNIT  VALUE Population Death_Percent  \n",
       "0    Both sexes  Number   18.0  3401000.0      0.000529  \n",
       "1          Male  Number   11.0  1709000.0      0.000644  \n",
       "2        Female  Number    7.0  1692000.0      0.000414  \n",
       "3    Both sexes  Number   22.0  3480000.0      0.000632  \n",
       "4          Male  Number   12.0  1746000.0      0.000687  \n",
       "..          ...     ...    ...        ...           ...  \n",
       "337        Male  Number   12.0  1729400.0      0.000694  \n",
       "338      Female  Number    6.0  1714100.0       0.00035  \n",
       "339  Both sexes  Number    5.0  3789500.0      0.000132  \n",
       "340        Male  Number    1.0  1882900.0      0.000053  \n",
       "341      Female  Number    4.0  1906600.0       0.00021  \n",
       "\n",
       "[342 rows x 11 columns]"
      ]
     },
     "execution_count": 42,
     "metadata": {},
     "output_type": "execute_result"
    }
   ],
   "source": [
    "categorised_data(list_of_key,'All ages')"
   ]
  },
  {
   "cell_type": "code",
   "execution_count": 44,
   "id": "73d507c4",
   "metadata": {},
   "outputs": [
    {
     "name": "stdout",
     "output_type": "stream",
     "text": [
      "            Cause of Death  level_0 Age Group  index Statistic  Year  \\\n",
      "0  meningococcal infection        3  All ages   4269    Deaths  1980   \n",
      "1  meningococcal infection       82  All ages   4348    Deaths  1980   \n",
      "2  meningococcal infection      161  All ages   4427    Deaths  1980   \n",
      "3  meningococcal infection      240  All ages   8772    Deaths  1982   \n",
      "4  meningococcal infection      319  All ages   8851    Deaths  1982   \n",
      "\n",
      "          Sex    UNIT  VALUE Population Death_Percent  \n",
      "0  Both sexes  Number   18.0  3401000.0      0.000529  \n",
      "1        Male  Number   11.0  1709000.0      0.000644  \n",
      "2      Female  Number    7.0  1692000.0      0.000414  \n",
      "3  Both sexes  Number   22.0  3480000.0      0.000632  \n",
      "4        Male  Number   12.0  1746000.0      0.000687  \n"
     ]
    }
   ],
   "source": [
    "new_sorted_mort_df = categorised_data(list_of_key,'All ages')\n",
    "print(new_sorted_mort_df.head())"
   ]
  },
  {
   "cell_type": "code",
   "execution_count": null,
   "id": "319132e5",
   "metadata": {},
   "outputs": [],
   "source": [
    "#list_of_keywords = np.array(list_of_keywords).flatten()"
   ]
  },
  {
   "cell_type": "code",
   "execution_count": null,
   "id": "b3171bb7",
   "metadata": {},
   "outputs": [],
   "source": []
  },
  {
   "cell_type": "code",
   "execution_count": null,
   "id": "efb1d535",
   "metadata": {},
   "outputs": [],
   "source": []
  }
 ],
 "metadata": {
  "kernelspec": {
   "display_name": "Python 3",
   "language": "python",
   "name": "python3"
  },
  "language_info": {
   "codemirror_mode": {
    "name": "ipython",
    "version": 3
   },
   "file_extension": ".py",
   "mimetype": "text/x-python",
   "name": "python",
   "nbconvert_exporter": "python",
   "pygments_lexer": "ipython3",
   "version": "3.8.8"
  }
 },
 "nbformat": 4,
 "nbformat_minor": 5
}
